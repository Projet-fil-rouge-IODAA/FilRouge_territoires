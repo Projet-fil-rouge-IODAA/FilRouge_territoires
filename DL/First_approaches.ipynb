{
 "cells": [
  {
   "cell_type": "markdown",
   "metadata": {},
   "source": [
    "## Salut !\n",
    "In this nootebook I put ideas and test around the deep learning approaches for time series.\n",
    "\n",
    "Now working over : https://www.mdpi.com/2079-9292/10/23/3001\n",
    "\n",
    "<p align=\"center\">\n",
    "  <img src=\"../DL/graphic_src/Paper_1.png\" width=\"500\"/>\n",
    "</p>"
   ]
  },
  {
   "cell_type": "markdown",
   "metadata": {},
   "source": [
    "**Deep clustering** is an unsupervised clustering method that simultaneously captures representative features and the relationships among images. The goal is to learn\n",
    "feature representations and cluster assignments simultaneously, employing the strength of\n",
    "DCAE to learn high-level features. Two objective functions were integrated together: one\n",
    "minimizes the distance between features and their corresponding cluster centers, while the\n",
    "other minimizes the reconstruction error of the DCAE, defined as follows:"
   ]
  },
  {
   "cell_type": "markdown",
   "metadata": {},
   "source": [
    "<p align=\"center\">\n",
    "<img src=\"../DL/graphic_src/DCAE_network_arch.png\" width=\"600\"/>\n",
    "</p>"
   ]
  },
  {
   "cell_type": "code",
   "execution_count": null,
   "metadata": {},
   "outputs": [],
   "source": []
  }
 ],
 "metadata": {
  "kernelspec": {
   "display_name": "fil_rouge",
   "language": "python",
   "name": "python3"
  },
  "language_info": {
   "name": "python",
   "version": "3.8.18"
  }
 },
 "nbformat": 4,
 "nbformat_minor": 2
}
