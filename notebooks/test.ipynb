{
 "cells": [
  {
   "cell_type": "code",
   "execution_count": 2,
   "metadata": {},
   "outputs": [
    {
     "name": "stdout",
     "output_type": "stream",
     "text": [
      "('1', '2', '3', '4', '5', '6', '7', '8', '9')\n",
      "0\n"
     ]
    }
   ],
   "source": [
    "def voating_system(*args): \n",
    "    '''\n",
    "    def de matrice : \n",
    "    [\n",
    "    [[x1,x2], .......... ]\n",
    "    [                    ]    \n",
    "    [                    ]\n",
    "\n",
    "    ]\n",
    "    '''\n",
    "    secondary_c = args[1:]\n",
    "    print(secondary_c)\n",
    "    print(args[0])\n",
    "\n",
    "voating_system('0','1','2','3','4','5','6','7','8','9')"
   ]
  }
 ],
 "metadata": {
  "kernelspec": {
   "display_name": "FilRouge",
   "language": "python",
   "name": "python3"
  },
  "language_info": {
   "codemirror_mode": {
    "name": "ipython",
    "version": 3
   },
   "file_extension": ".py",
   "mimetype": "text/x-python",
   "name": "python",
   "nbconvert_exporter": "python",
   "pygments_lexer": "ipython3",
   "version": "3.9.0"
  }
 },
 "nbformat": 4,
 "nbformat_minor": 2
}
