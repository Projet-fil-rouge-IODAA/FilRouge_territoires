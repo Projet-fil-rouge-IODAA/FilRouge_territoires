{
 "cells": [
  {
   "cell_type": "markdown",
   "metadata": {},
   "source": [
    "# Ce notebook est la consolidation du systéme de clustering basée dans la technique T2F.\n",
    "T2F est une des deux techniques qu'on propose dans le cadre du projet fil rouge."
   ]
  },
  {
   "cell_type": "markdown",
   "metadata": {},
   "source": [
    "Un example avec > 44000 pixels"
   ]
  },
  {
   "cell_type": "markdown",
   "metadata": {},
   "source": [
    "# Here, change the local Python PATH !!!"
   ]
  },
  {
   "cell_type": "code",
   "execution_count": 2,
   "metadata": {},
   "outputs": [],
   "source": [
    "import sys"
   ]
  },
  {
   "cell_type": "code",
   "execution_count": 3,
   "metadata": {},
   "outputs": [],
   "source": [
    "PATH_TO_PYTHON = \"/home/julian/FilRouge_territoires\""
   ]
  },
  {
   "cell_type": "code",
   "execution_count": 4,
   "metadata": {},
   "outputs": [
    {
     "data": {
      "text/plain": [
       "['/home/julian/FilRouge_territoires',\n",
       " '/home/julian/FilRouge_territoires/notebooks',\n",
       " '/home/julian/miniconda3/envs/FilRouge/lib/python39.zip',\n",
       " '/home/julian/miniconda3/envs/FilRouge/lib/python3.9',\n",
       " '/home/julian/miniconda3/envs/FilRouge/lib/python3.9/lib-dynload',\n",
       " '',\n",
       " '/home/julian/miniconda3/envs/FilRouge/lib/python3.9/site-packages']"
      ]
     },
     "execution_count": 4,
     "metadata": {},
     "output_type": "execute_result"
    }
   ],
   "source": [
    "sys.path\n",
    "# append in the first position of the list\n",
    "sys.path.insert(0, PATH_TO_PYTHON)\n",
    "sys.path"
   ]
  },
  {
   "cell_type": "code",
   "execution_count": 5,
   "metadata": {},
   "outputs": [],
   "source": [
    "import pickle\n",
    "import numpy as np\n",
    "from models.our_t2f import Time2Feature\n",
    "from notebooks.cookie_clusters import find_num_clusters\n",
    "from notebooks.cookie_clusters import afficheur_de_resultats"
   ]
  },
  {
   "cell_type": "markdown",
   "metadata": {},
   "source": [
    "# Importing the pixels"
   ]
  },
  {
   "cell_type": "markdown",
   "metadata": {},
   "source": [
    "## Cropping the images"
   ]
  },
  {
   "cell_type": "code",
   "execution_count": 14,
   "metadata": {},
   "outputs": [
    {
     "name": "stdout",
     "output_type": "stream",
     "text": [
      "Cleaning data directory...\n",
      "Removing data/processed directory...\n",
      "Removing data/with_texture directory...\n",
      "Removing data/cropped directory...\n",
      "Executing crop_images.py file\n",
      "(971, 2180) (971, 2180) (971, 2180) (971, 2180) (971, 2180) (971, 2180)\n",
      "(971, 2180) (971, 2180) (971, 2180) (971, 2180) (971, 2180) (971, 2180)\n",
      "(971, 2180) (971, 2180) (971, 2180) (971, 2180) (971, 2180) (971, 2180)\n",
      "(971, 2180) (971, 2180) (971, 2180) (971, 2180) (971, 2180) (971, 2180)\n",
      "(971, 2180) (971, 2180) (971, 2180) (971, 2180) (971, 2180) (971, 2180)\n",
      "(971, 2180) (971, 2180) (971, 2180) (971, 2180) (971, 2180) (971, 2180)\n",
      "(971, 2180) (971, 2180) (971, 2180) (971, 2180) (971, 2180) (971, 2180)\n",
      "(971, 2180) (971, 2180) (971, 2180) (971, 2180) (971, 2180) (971, 2180)\n",
      "(971, 2180) (971, 2180) (971, 2180) (971, 2180) (971, 2180) (971, 2180)\n",
      "(971, 2180) (971, 2180) (971, 2180) (971, 2180) (971, 2180) (971, 2180)\n",
      "(971, 2180) (971, 2180) (971, 2180) (971, 2180) (971, 2180) (971, 2180)\n",
      "(971, 2180) (971, 2180) (971, 2180) (971, 2180) (971, 2180) (971, 2180)\n",
      "(971, 2180) (971, 2180) (971, 2180) (971, 2180) (971, 2180) (971, 2180)\n",
      "(971, 2180) (971, 2180) (971, 2180) (971, 2180) (971, 2180) (971, 2180)\n",
      "(971, 2180) (971, 2180) (971, 2180) (971, 2180) (971, 2180) (971, 2180)\n",
      "(971, 2180) (971, 2180) (971, 2180) (971, 2180) (971, 2180) (971, 2180)\n",
      "(971, 2180) (971, 2180) (971, 2180) (971, 2180) (971, 2180) (971, 2180)\n",
      "(971, 2180) (971, 2180) (971, 2180) (971, 2180) (971, 2180) (971, 2180)\n",
      "(971, 2180) (971, 2180) (971, 2180) (971, 2180) (971, 2180) (971, 2180)\n",
      "(971, 2180) (971, 2180) (971, 2180) (971, 2180) (971, 2180) (971, 2180)\n",
      "(971, 2180) (971, 2180) (971, 2180) (971, 2180) (971, 2180) (971, 2180)\n",
      "(971, 2180) (971, 2180) (971, 2180) (971, 2180) (971, 2180) (971, 2180)\n",
      "(971, 2180) (971, 2180) (971, 2180) (971, 2180) (971, 2180) (971, 2180)\n",
      "(971, 2180) (971, 2180) (971, 2180) (971, 2180) (971, 2180) (971, 2180)\n",
      "(971, 2180) (971, 2180) (971, 2180) (971, 2180) (971, 2180) (971, 2180)\n",
      "(971, 2180) (971, 2180) (971, 2180) (971, 2180) (971, 2180) (971, 2180)\n",
      "(971, 2180) (971, 2180) (971, 2180) (971, 2180) (971, 2180) (971, 2180)\n",
      "(971, 2180) (971, 2180) (971, 2180) (971, 2180) (971, 2180) (971, 2180)\n",
      "(971, 2180) (971, 2180) (971, 2180) (971, 2180) (971, 2180) (971, 2180)\n",
      "(971, 2180) (971, 2180) (971, 2180) (971, 2180) (971, 2180) (971, 2180)\n",
      "(971, 2180) (971, 2180) (971, 2180) (971, 2180) (971, 2180) (971, 2180)\n",
      "(971, 2180) (971, 2180) (971, 2180) (971, 2180) (971, 2180) (971, 2180)\n",
      "(971, 2180) (971, 2180) (971, 2180) (971, 2180) (971, 2180) (971, 2180)\n",
      "(971, 2180) (971, 2180) (971, 2180) (971, 2180) (971, 2180) (971, 2180)\n",
      "(971, 2180) (971, 2180) (971, 2180) (971, 2180) (971, 2180) (971, 2180)\n",
      "(971, 2180) (971, 2180) (971, 2180) (971, 2180) (971, 2180) (971, 2180)\n",
      "(971, 2180) (971, 2180) (971, 2180) (971, 2180) (971, 2180) (971, 2180)\n",
      "(971, 2180) (971, 2180) (971, 2180) (971, 2180) (971, 2180) (971, 2180)\n",
      "(971, 2180) (971, 2180) (971, 2180) (971, 2180) (971, 2180) (971, 2180)\n",
      "(971, 2180) (971, 2180) (971, 2180) (971, 2180) (971, 2180) (971, 2180)\n",
      "(971, 2180) (971, 2180) (971, 2180) (971, 2180) (971, 2180) (971, 2180)\n",
      "(971, 2180) (971, 2180) (971, 2180) (971, 2180) (971, 2180) (971, 2180)\n",
      "(971, 2180) (971, 2180) (971, 2180) (971, 2180) (971, 2180) (971, 2180)\n",
      "(971, 2180) (971, 2180) (971, 2180) (971, 2180) (971, 2180) (971, 2180)\n",
      "(971, 2180) (971, 2180) (971, 2180) (971, 2180) (971, 2180) (971, 2180)\n",
      "(971, 2180) (971, 2180) (971, 2180) (971, 2180) (971, 2180) (971, 2180)\n",
      "(971, 2180) (971, 2180) (971, 2180) (971, 2180) (971, 2180) (971, 2180)\n",
      "(971, 2180) (971, 2180) (971, 2180) (971, 2180) (971, 2180) (971, 2180)\n",
      "(971, 2180) (971, 2180) (971, 2180) (971, 2180) (971, 2180) (971, 2180)\n",
      "(971, 2180) (971, 2180) (971, 2180) (971, 2180) (971, 2180) (971, 2180)\n",
      "(971, 2180) (971, 2180) (971, 2180) (971, 2180) (971, 2180) (971, 2180)\n",
      "(971, 2180) (971, 2180) (971, 2180) (971, 2180) (971, 2180) (971, 2180)\n",
      "(971, 2180) (971, 2180) (971, 2180) (971, 2180) (971, 2180) (971, 2180)\n",
      "(971, 2180) (971, 2180) (971, 2180) (971, 2180) (971, 2180) (971, 2180)\n",
      "(971, 2180) (971, 2180) (971, 2180) (971, 2180) (971, 2180) (971, 2180)\n",
      "(971, 2180) (971, 2180) (971, 2180) (971, 2180) (971, 2180) (971, 2180)\n",
      "(971, 2180) (971, 2180) (971, 2180) (971, 2180) (971, 2180) (971, 2180)\n",
      "(971, 2180) (971, 2180) (971, 2180) (971, 2180) (971, 2180) (971, 2180)\n",
      "(971, 2180) (971, 2180) (971, 2180) (971, 2180) (971, 2180) (971, 2180)\n",
      "(971, 2180) (971, 2180) (971, 2180) (971, 2180) (971, 2180) (971, 2180)\n",
      "(971, 2180) (971, 2180) (971, 2180) (971, 2180) (971, 2180) (971, 2180)\n",
      "(971, 2180) (971, 2180) (971, 2180) (971, 2180) (971, 2180) (971, 2180)\n",
      "(971, 2180) (971, 2180) (971, 2180) (971, 2180) (971, 2180) (971, 2180)\n",
      "(971, 2180) (971, 2180) (971, 2180) (971, 2180) (971, 2180) (971, 2180)\n",
      "(971, 2180) (971, 2180) (971, 2180) (971, 2180) (971, 2180) (971, 2180)\n",
      "(971, 2180) (971, 2180) (971, 2180) (971, 2180) (971, 2180) (971, 2180)\n",
      "(971, 2180) (971, 2180) (971, 2180) (971, 2180) (971, 2180) (971, 2180)\n",
      "(971, 2180) (971, 2180) (971, 2180) (971, 2180) (971, 2180) (971, 2180)\n",
      "(971, 2180) (971, 2180) (971, 2180) (971, 2180) (971, 2180) (971, 2180)\n",
      "(971, 2180) (971, 2180) (971, 2180) (971, 2180) (971, 2180) (971, 2180)\n",
      "(971, 2180) (971, 2180) (971, 2180) (971, 2180) (971, 2180) (971, 2180)\n",
      "(971, 2180) (971, 2180) (971, 2180) (971, 2180) (971, 2180) (971, 2180)\n",
      "(971, 2180) (971, 2180) (971, 2180) (971, 2180) (971, 2180) (971, 2180)\n",
      "(971, 2180) (971, 2180) (971, 2180) (971, 2180) (971, 2180) (971, 2180)\n",
      "(971, 2180) (971, 2180) (971, 2180) (971, 2180) (971, 2180) (971, 2180)\n",
      "(971, 2180) (971, 2180) (971, 2180) (971, 2180) (971, 2180) (971, 2180)\n",
      "(971, 2180) (971, 2180) (971, 2180) (971, 2180) (971, 2180) (971, 2180)\n",
      "(971, 2180) (971, 2180) (971, 2180) (971, 2180) (971, 2180) (971, 2180)\n",
      "(971, 2180) (971, 2180) (971, 2180) (971, 2180) (971, 2180) (971, 2180)\n",
      "(971, 2180) (971, 2180) (971, 2180) (971, 2180) (971, 2180) (971, 2180)\n",
      "(971, 2180) (971, 2180) (971, 2180) (971, 2180) (971, 2180) (971, 2180)\n",
      "(971, 2180) (971, 2180) (971, 2180) (971, 2180) (971, 2180) (971, 2180)\n",
      "(971, 2180) (971, 2180) (971, 2180) (971, 2180) (971, 2180) (971, 2180)\n",
      "(971, 2180) (971, 2180) (971, 2180) (971, 2180) (971, 2180) (971, 2180)\n",
      "(971, 2180) (971, 2180) (971, 2180) (971, 2180) (971, 2180) (971, 2180)\n",
      "(971, 2180) (971, 2180) (971, 2180) (971, 2180) (971, 2180) (971, 2180)\n",
      "(971, 2180) (971, 2180) (971, 2180) (971, 2180) (971, 2180) (971, 2180)\n",
      "(971, 2180) (971, 2180) (971, 2180) (971, 2180) (971, 2180) (971, 2180)\n",
      "(971, 2180) (971, 2180) (971, 2180) (971, 2180) (971, 2180) (971, 2180)\n",
      "(971, 2180) (971, 2180) (971, 2180) (971, 2180) (971, 2180) (971, 2180)\n",
      "(971, 2180) (971, 2180) (971, 2180) (971, 2180) (971, 2180) (971, 2180)\n",
      "(971, 2180) (971, 2180) (971, 2180) (971, 2180) (971, 2180) (971, 2180)\n",
      "(971, 2180) (971, 2180) (971, 2180) (971, 2180) (971, 2180) (971, 2180)\n",
      "(971, 2180) (971, 2180) (971, 2180) (971, 2180) (971, 2180) (971, 2180)\n",
      "(971, 2180) (971, 2180) (971, 2180) (971, 2180) (971, 2180) (971, 2180)\n",
      "(971, 2180) (971, 2180) (971, 2180) (971, 2180) (971, 2180) (971, 2180)\n",
      "(971, 2180) (971, 2180) (971, 2180) (971, 2180) (971, 2180) (971, 2180)\n",
      "(971, 2180) (971, 2180) (971, 2180) (971, 2180) (971, 2180) (971, 2180)\n",
      "(971, 2180) (971, 2180) (971, 2180) (971, 2180) (971, 2180) (971, 2180)\n",
      "(971, 2180) (971, 2180) (971, 2180) (971, 2180) (971, 2180) (971, 2180)\n",
      "(971, 2180) (971, 2180) (971, 2180) (971, 2180) (971, 2180) (971, 2180)\n",
      "(971, 2180) (971, 2180) (971, 2180) (971, 2180) (971, 2180) (971, 2180)\n",
      "(971, 2180) (971, 2180) (971, 2180) (971, 2180) (971, 2180) (971, 2180)\n",
      "(971, 2180) (971, 2180) (971, 2180) (971, 2180) (971, 2180) (971, 2180)\n",
      "(971, 2180) (971, 2180) (971, 2180) (971, 2180) (971, 2180) (971, 2180)\n",
      "(971, 2180) (971, 2180) (971, 2180) (971, 2180) (971, 2180) (971, 2180)\n",
      "(971, 2180) (971, 2180) (971, 2180) (971, 2180) (971, 2180) (971, 2180)\n",
      "(971, 2180) (971, 2180) (971, 2180) (971, 2180) (971, 2180) (971, 2180)\n",
      "(971, 2180) (971, 2180) (971, 2180) (971, 2180) (971, 2180) (971, 2180)\n",
      "(971, 2180) (971, 2180) (971, 2180) (971, 2180) (971, 2180) (971, 2180)\n",
      "(971, 2180) (971, 2180) (971, 2180) (971, 2180) (971, 2180) (971, 2180)\n",
      "(971, 2180) (971, 2180) (971, 2180) (971, 2180) (971, 2180) (971, 2180)\n",
      "(971, 2180) (971, 2180) (971, 2180) (971, 2180) (971, 2180) (971, 2180)\n",
      "(971, 2180) (971, 2180) (971, 2180) (971, 2180) (971, 2180) (971, 2180)\n",
      "(971, 2180) (971, 2180) (971, 2180) (971, 2180) (971, 2180) (971, 2180)\n",
      "(971, 2180) (971, 2180) (971, 2180) (971, 2180) (971, 2180) (971, 2180)\n",
      "(971, 2180) (971, 2180) (971, 2180) (971, 2180) (971, 2180) (971, 2180)\n",
      "(971, 2180) (971, 2180) (971, 2180) (971, 2180) (971, 2180) (971, 2180)\n",
      "(971, 2180) (971, 2180) (971, 2180) (971, 2180) (971, 2180) (971, 2180)\n",
      "(971, 2180) (971, 2180) (971, 2180) (971, 2180) (971, 2180) (971, 2180)\n",
      "(971, 2180) (971, 2180) (971, 2180) (971, 2180) (971, 2180) (971, 2180)\n",
      "(971, 2180) (971, 2180) (971, 2180) (971, 2180) (971, 2180) (971, 2180)\n",
      "(971, 2180) (971, 2180) (971, 2180) (971, 2180) (971, 2180) (971, 2180)\n",
      "(971, 2180) (971, 2180) (971, 2180) (971, 2180) (971, 2180) (971, 2180)\n",
      "(971, 2180) (971, 2180) (971, 2180) (971, 2180) (971, 2180) (971, 2180)\n",
      "(971, 2180) (971, 2180) (971, 2180) (971, 2180) (971, 2180) (971, 2180)\n",
      "(971, 2180) (971, 2180) (971, 2180) (971, 2180) (971, 2180) (971, 2180)\n",
      "(971, 2180) (971, 2180) (971, 2180) (971, 2180) (971, 2180) (971, 2180)\n",
      "(971, 2180) (971, 2180) (971, 2180) (971, 2180) (971, 2180) (971, 2180)\n",
      "(971, 2180) (971, 2180) (971, 2180) (971, 2180) (971, 2180) (971, 2180)\n",
      "(971, 2180) (971, 2180) (971, 2180) (971, 2180) (971, 2180) (971, 2180)\n",
      "(971, 2180) (971, 2180) (971, 2180) (971, 2180) (971, 2180) (971, 2180)\n",
      "(971, 2180) (971, 2180) (971, 2180) (971, 2180) (971, 2180) (971, 2180)\n",
      "(971, 2180) (971, 2180) (971, 2180) (971, 2180) (971, 2180) (971, 2180)\n",
      "(971, 2180) (971, 2180) (971, 2180) (971, 2180) (971, 2180) (971, 2180)\n",
      "(971, 2180) (971, 2180) (971, 2180) (971, 2180) (971, 2180) (971, 2180)\n",
      "(971, 2180) (971, 2180) (971, 2180) (971, 2180) (971, 2180) (971, 2180)\n",
      "(971, 2180) (971, 2180) (971, 2180) (971, 2180) (971, 2180) (971, 2180)\n",
      "(971, 2180) (971, 2180) (971, 2180) (971, 2180) (971, 2180) (971, 2180)\n",
      "(971, 2180) (971, 2180) (971, 2180) (971, 2180) (971, 2180) (971, 2180)\n",
      "(971, 2180) (971, 2180) (971, 2180) (971, 2180) (971, 2180) (971, 2180)\n",
      "data/cropped directory was created !\n",
      "Executing build_features.py file\n",
      "data/processed directory was created !\n"
     ]
    }
   ],
   "source": [
    "!cd .. ; make create_data\n"
   ]
  },
  {
   "cell_type": "markdown",
   "metadata": {},
   "source": [
    "## Using our T2F implementation"
   ]
  },
  {
   "cell_type": "code",
   "execution_count": 6,
   "metadata": {},
   "outputs": [],
   "source": [
    "data_cube = np.loadtxt('../data/processed/(1000, 141, 8).csv', delimiter=\",\").astype(np.float32)\n",
    "data_cube = data_cube.reshape(1000, 141, 8)"
   ]
  },
  {
   "cell_type": "code",
   "execution_count": 7,
   "metadata": {},
   "outputs": [],
   "source": [
    "t2f = Time2Feature(data_cube=data_cube,\n",
    "                   model_type='Hierarchical',\n",
    "                   transform_type='minmax',\n",
    "                   batch_size=100,\n",
    "                   n_cores=6)"
   ]
  },
  {
   "cell_type": "code",
   "execution_count": 9,
   "metadata": {},
   "outputs": [
    {
     "name": "stdout",
     "output_type": "stream",
     "text": [
      "Doing feature extraction\n"
     ]
    },
    {
     "name": "stderr",
     "output_type": "stream",
     "text": [
      "Feature Extraction: 100%|██████████| 800/800 [01:02<00:00, 12.90it/s]\n",
      "Feature Extraction: 100%|██████████| 800/800 [01:02<00:00, 12.89it/s]\n",
      "\n",
      "Feature Extraction: 100%|██████████| 800/800 [01:02<00:00, 12.83it/s]\n",
      "Feature Extraction: 100%|██████████| 800/800 [01:02<00:00, 12.82it/s]\n",
      "Feature Extraction: 100%|██████████| 800/800 [01:02<00:00, 12.80it/s]\n",
      "Feature Extraction: 100%|██████████| 536/536 [00:39<00:00, 13.42it/s]\n",
      "Feature Extraction: 100%|██████████| 536/536 [00:40<00:00, 13.33it/s]\n",
      "Feature Extraction: 100%|██████████| 536/536 [00:40<00:00, 13.26it/s]\n",
      "Feature Extraction: 100%|██████████| 528/528 [00:40<00:00, 13.05it/s]\n",
      "Feature Extraction: 100%|██████████| 536/536 [00:40<00:00, 13.09it/s]\n"
     ]
    },
    {
     "name": "stdout",
     "output_type": "stream",
     "text": [
      "Unexpected exception formatting exception. Falling back to standard exception\n"
     ]
    },
    {
     "name": "stderr",
     "output_type": "stream",
     "text": [
      "Traceback (most recent call last):\n",
      "  File \"/home/julian/miniconda3/envs/FilRouge/lib/python3.9/site-packages/IPython/core/interactiveshell.py\", line 3550, in run_code\n",
      "    exec(code_obj, self.user_global_ns, self.user_ns)\n",
      "  File \"/tmp/ipykernel_133353/3809561393.py\", line 1, in <module>\n",
      "    t2f._feature_extraction()\n",
      "  File \"/home/julian/FilRouge_territoires/models/our_t2f.py\", line 61, in _feature_extraction\n",
      "  File \"/home/julian/FilRouge_territoires/t2f/extraction/extractor.py\", line 163, in feature_extraction\n",
      "    extraction_feats = pool.starmap(feature_extraction_simple, list_arguments)\n",
      "  File \"/home/julian/miniconda3/envs/FilRouge/lib/python3.9/multiprocessing/pool.py\", line 372, in starmap\n",
      "    return self._map_async(func, iterable, starmapstar, chunksize).get()\n",
      "  File \"/home/julian/miniconda3/envs/FilRouge/lib/python3.9/multiprocessing/pool.py\", line 765, in get\n",
      "    self.wait(timeout)\n",
      "  File \"/home/julian/miniconda3/envs/FilRouge/lib/python3.9/multiprocessing/pool.py\", line 762, in wait\n",
      "    self._event.wait(timeout)\n",
      "  File \"/home/julian/miniconda3/envs/FilRouge/lib/python3.9/threading.py\", line 574, in wait\n",
      "    signaled = self._cond.wait(timeout)\n",
      "  File \"/home/julian/miniconda3/envs/FilRouge/lib/python3.9/threading.py\", line 312, in wait\n",
      "    waiter.acquire()\n",
      "KeyboardInterrupt\n",
      "\n",
      "During handling of the above exception, another exception occurred:\n",
      "\n",
      "Traceback (most recent call last):\n",
      "  File \"/home/julian/miniconda3/envs/FilRouge/lib/python3.9/site-packages/IPython/core/interactiveshell.py\", line 2144, in showtraceback\n",
      "    stb = self.InteractiveTB.structured_traceback(\n",
      "  File \"/home/julian/miniconda3/envs/FilRouge/lib/python3.9/site-packages/IPython/core/ultratb.py\", line 1435, in structured_traceback\n",
      "    return FormattedTB.structured_traceback(\n",
      "  File \"/home/julian/miniconda3/envs/FilRouge/lib/python3.9/site-packages/IPython/core/ultratb.py\", line 1326, in structured_traceback\n",
      "    return VerboseTB.structured_traceback(\n",
      "  File \"/home/julian/miniconda3/envs/FilRouge/lib/python3.9/site-packages/IPython/core/ultratb.py\", line 1173, in structured_traceback\n",
      "    formatted_exception = self.format_exception_as_a_whole(etype, evalue, etb, number_of_lines_of_context,\n",
      "  File \"/home/julian/miniconda3/envs/FilRouge/lib/python3.9/site-packages/IPython/core/ultratb.py\", line 1088, in format_exception_as_a_whole\n",
      "    frames.append(self.format_record(record))\n",
      "  File \"/home/julian/miniconda3/envs/FilRouge/lib/python3.9/site-packages/IPython/core/ultratb.py\", line 970, in format_record\n",
      "    frame_info.lines, Colors, self.has_colors, lvals\n",
      "  File \"/home/julian/miniconda3/envs/FilRouge/lib/python3.9/site-packages/IPython/core/ultratb.py\", line 792, in lines\n",
      "    return self._sd.lines\n",
      "  File \"/home/julian/miniconda3/envs/FilRouge/lib/python3.9/site-packages/stack_data/utils.py\", line 145, in cached_property_wrapper\n",
      "    value = obj.__dict__[self.func.__name__] = self.func(obj)\n",
      "  File \"/home/julian/miniconda3/envs/FilRouge/lib/python3.9/site-packages/stack_data/core.py\", line 734, in lines\n",
      "    pieces = self.included_pieces\n",
      "  File \"/home/julian/miniconda3/envs/FilRouge/lib/python3.9/site-packages/stack_data/utils.py\", line 145, in cached_property_wrapper\n",
      "    value = obj.__dict__[self.func.__name__] = self.func(obj)\n",
      "  File \"/home/julian/miniconda3/envs/FilRouge/lib/python3.9/site-packages/stack_data/core.py\", line 681, in included_pieces\n",
      "    pos = scope_pieces.index(self.executing_piece)\n",
      "  File \"/home/julian/miniconda3/envs/FilRouge/lib/python3.9/site-packages/stack_data/utils.py\", line 145, in cached_property_wrapper\n",
      "    value = obj.__dict__[self.func.__name__] = self.func(obj)\n",
      "  File \"/home/julian/miniconda3/envs/FilRouge/lib/python3.9/site-packages/stack_data/core.py\", line 660, in executing_piece\n",
      "    return only(\n",
      "  File \"/home/julian/miniconda3/envs/FilRouge/lib/python3.9/site-packages/executing/executing.py\", line 116, in only\n",
      "    raise NotOneValueFound('Expected one value, found 0')\n",
      "executing.executing.NotOneValueFound: Expected one value, found 0\n"
     ]
    }
   ],
   "source": [
    "t2f._feature_extraction()"
   ]
  },
  {
   "cell_type": "code",
   "execution_count": null,
   "metadata": {},
   "outputs": [
    {
     "name": "stdout",
     "output_type": "stream",
     "text": [
      "The shape of the dataset after the feature selection is (800, 253)\n"
     ]
    }
   ],
   "source": [
    "t2f._feature_selection()"
   ]
  },
  {
   "cell_type": "code",
   "execution_count": null,
   "metadata": {},
   "outputs": [
    {
     "name": "stdout",
     "output_type": "stream",
     "text": [
      "you have not specified the number of clusters.\n",
      "Finding the number of clusters...\n",
      "We are going to use 7 clusters.\n"
     ]
    }
   ],
   "source": [
    "t2f._n_clusters()"
   ]
  },
  {
   "cell_type": "code",
   "execution_count": null,
   "metadata": {},
   "outputs": [
    {
     "name": "stdout",
     "output_type": "stream",
     "text": [
      "Executing Hierarchical clustering...\n",
      "End of clustering.\n"
     ]
    }
   ],
   "source": [
    "yhat = t2f._clustering()"
   ]
  },
  {
   "cell_type": "code",
   "execution_count": 8,
   "metadata": {},
   "outputs": [],
   "source": [
    "file = open('../data/processed/pixels_de_interet_list.pkl', 'rb')\n",
    "pixels_de_interet = pickle.load(file)\n",
    "file.close()"
   ]
  },
  {
   "cell_type": "code",
   "execution_count": null,
   "metadata": {},
   "outputs": [
    {
     "data": {
      "text/plain": [
       "800"
      ]
     },
     "execution_count": 11,
     "metadata": {},
     "output_type": "execute_result"
    }
   ],
   "source": [
    "len(pixels_de_interet)"
   ]
  },
  {
   "cell_type": "code",
   "execution_count": null,
   "metadata": {},
   "outputs": [
    {
     "data": {
      "text/plain": [
       "array([0, 1, 2, 3, 4, 5, 6])"
      ]
     },
     "execution_count": 12,
     "metadata": {},
     "output_type": "execute_result"
    }
   ],
   "source": [
    "np.unique(yhat)"
   ]
  },
  {
   "cell_type": "code",
   "execution_count": null,
   "metadata": {},
   "outputs": [
    {
     "name": "stderr",
     "output_type": "stream",
     "text": [
      "Clipping input data to the valid range for imshow with RGB data ([0..1] for floats or [0..255] for integers).\n",
      "Clipping input data to the valid range for imshow with RGB data ([0..1] for floats or [0..255] for integers).\n",
      "Clipping input data to the valid range for imshow with RGB data ([0..1] for floats or [0..255] for integers).\n"
     ]
    },
    {
     "data": {
      "image/png": "[encoded data removed]",
      "text/plain": [
       "<Figure size 3000x3000 with 1 Axes>"
      ]
     },
     "metadata": {},
     "output_type": "display_data"
    },
    {
     "data": {
      "image/png": "[encoded data removed]",
      "text/plain": [
       "<Figure size 3000x3000 with 1 Axes>"
      ]
     },
     "metadata": {},
     "output_type": "display_data"
    },
    {
     "data": {
      "image/png": "[encoded data removed]",
      "text/plain": [
       "<Figure size 3000x3000 with 1 Axes>"
      ]
     },
     "metadata": {},
     "output_type": "display_data"
    }
   ],
   "source": [
    "PATH_IMAGE = \"../data/cropped/cropped_with_texture_crop_SENTINEL2B_20231007-105728-915_L2A_T31UDQ_C_V3-1.tif\"\n",
    "\n",
    "results = afficheur_de_resultats(PATH_IMAGE, yhat, pixels_de_interet)\n",
    "results.create_image('../results/test_of_pipeline', cbar=False, axes=False)"
   ]
  }
 ],
 "metadata": {
  "kernelspec": {
   "display_name": "FilRouge",
   "language": "python",
   "name": "python3"
  },
  "language_info": {
   "codemirror_mode": {
    "name": "ipython",
    "version": 3
   },
   "file_extension": ".py",
   "mimetype": "text/x-python",
   "name": "python",
   "nbconvert_exporter": "python",
   "pygments_lexer": "ipython3",
   "version": "3.9.0"
  }
 },
 "nbformat": 4,
 "nbformat_minor": 2
}
