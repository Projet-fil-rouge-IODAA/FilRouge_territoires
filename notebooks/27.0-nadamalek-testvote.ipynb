{
 "cells": [
  {
   "cell_type": "code",
   "execution_count": 1,
   "metadata": {},
   "outputs": [],
   "source": [
    "from cookie_clusters import *"
   ]
  },
  {
   "cell_type": "code",
   "execution_count": 2,
   "metadata": {},
   "outputs": [
    {
     "data": {
      "text/plain": [
       "['/Users/nada/FilRouge_territoires/notebooks',\n",
       " '/Users/nada/miniconda3/envs/filrouge2/lib/python39.zip',\n",
       " '/Users/nada/miniconda3/envs/filrouge2/lib/python3.9',\n",
       " '/Users/nada/miniconda3/envs/filrouge2/lib/python3.9/lib-dynload',\n",
       " '',\n",
       " '/Users/nada/miniconda3/envs/filrouge2/lib/python3.9/site-packages']"
      ]
     },
     "metadata": {},
     "output_type": "display_data"
    },
    {
     "data": {
      "text/plain": [
       "['/Users/nada/FilRouge_territoires/notebooks',\n",
       " '/Users/nada/miniconda3/envs/filrouge2/lib/python39.zip',\n",
       " '/Users/nada/miniconda3/envs/filrouge2/lib/python3.9',\n",
       " '/Users/nada/miniconda3/envs/filrouge2/lib/python3.9/lib-dynload',\n",
       " '',\n",
       " '/Users/nada/miniconda3/envs/filrouge2/lib/python3.9/site-packages',\n",
       " '/Users/nada/FilRouge_territoires']"
      ]
     },
     "metadata": {},
     "output_type": "display_data"
    }
   ],
   "source": [
    "import sys\n",
    "# show the python path\n",
    "display(sys.path)\n",
    "sys.path.append('/Users/nada/FilRouge_territoires')\n",
    "display(sys.path)"
   ]
  },
  {
   "cell_type": "code",
   "execution_count": 3,
   "metadata": {},
   "outputs": [
    {
     "name": "stderr",
     "output_type": "stream",
     "text": [
      "/Users/nada/miniconda3/envs/filrouge2/lib/python3.9/site-packages/tqdm/auto.py:21: TqdmWarning: IProgress not found. Please update jupyter and ipywidgets. See https://ipywidgets.readthedocs.io/en/stable/user_install.html\n",
      "  from .autonotebook import tqdm as notebook_tqdm\n"
     ]
    }
   ],
   "source": [
    "from models.multiple_cluster_combination_system import CollaborativeClustering\n",
    "from sklearn.cluster import AgglomerativeClustering"
   ]
  },
  {
   "cell_type": "code",
   "execution_count": 4,
   "metadata": {},
   "outputs": [],
   "source": [
    "import pickle\n",
    "import numpy as np\n",
    "import pandas as pd\n",
    "from sklearn.datasets import load_digits\n",
    "from sklearn.model_selection import train_test_split\n",
    "from sklearn.preprocessing import StandardScaler\n",
    "from sklearn.cluster import HDBSCAN\n",
    "import umap\n",
    "import matplotlib.pyplot as plt\n",
    "import seaborn as sns\n",
    "from mpl_toolkits.axes_grid1 import make_axes_locatable\n",
    "%matplotlib inline"
   ]
  },
  {
   "cell_type": "code",
   "execution_count": 5,
   "metadata": {},
   "outputs": [],
   "source": [
    "file = open('../data/processed/pixels_de_interet_dic.pkl', 'rb')\n",
    "dic_de_pixels = pickle.load(file)\n",
    "file.close()\n",
    "\n",
    "file = open('../data/processed/pixels_de_interet_list.pkl', 'rb')\n",
    "pixels_de_interet = pickle.load(file)\n",
    "file.close()\n",
    "\n",
    "matrice_nir = pd.read_csv('../data/processed/vec_nir.csv').to_numpy()\n",
    "matrice_rouge = pd.read_csv('../data/processed/vec_red.csv').to_numpy()\n",
    "matrice_vert = pd.read_csv('../data/processed/vec_green.csv').to_numpy()\n",
    "matrice_bleu = pd.read_csv('../data/processed/vec_blue.csv').to_numpy()\n",
    "matrice_ndvi = pd.read_csv('../data/processed/vec_ndvi.csv').to_numpy()\n",
    "matrice_ndwi = pd.read_csv('../data/processed/vec_ndwi.csv').to_numpy()"
   ]
  },
  {
   "cell_type": "markdown",
   "metadata": {},
   "source": [
    "# ROUGE"
   ]
  },
  {
   "cell_type": "code",
   "execution_count": 6,
   "metadata": {},
   "outputs": [],
   "source": [
    "matrice = np.delete(matrice_rouge,22,1)"
   ]
  },
  {
   "cell_type": "code",
   "execution_count": 7,
   "metadata": {},
   "outputs": [],
   "source": [
    "support_matrice = pd.DataFrame(matrice)\n",
    "support_matrice.head()\n",
    "\n",
    "classes = list()\n",
    "\n",
    "for i in pixels_de_interet:\n",
    "    for j, k in zip(list(dic_de_pixels.keys()), range(0, len(list(dic_de_pixels.keys())))):\n",
    "        if i in list(dic_de_pixels[j]):\n",
    "            classes.append(k)"
   ]
  },
  {
   "cell_type": "code",
   "execution_count": 8,
   "metadata": {},
   "outputs": [
    {
     "name": "stderr",
     "output_type": "stream",
     "text": [
      "/Users/nada/miniconda3/envs/filrouge2/lib/python3.9/site-packages/umap/umap_.py:1943: UserWarning: n_jobs value -1 overridden to 1 by setting random_state. Use no seed for parallelism.\n",
      "  warn(f\"n_jobs value {self.n_jobs} overridden to 1 by setting random_state. Use no seed for parallelism.\")\n",
      "OMP: Info #276: omp_set_nested routine deprecated, please use omp_set_max_active_levels instead.\n"
     ]
    }
   ],
   "source": [
    "reducer = umap.UMAP(random_state=42)\n",
    "embedding_rouge = reducer.fit_transform(matrice)"
   ]
  },
  {
   "cell_type": "code",
   "execution_count": 9,
   "metadata": {},
   "outputs": [],
   "source": [
    "cah = AgglomerativeClustering(n_clusters = 4)\n",
    "cah.fit(embedding_rouge)\n",
    "yhat_rouge = cah.labels_"
   ]
  },
  {
   "cell_type": "markdown",
   "metadata": {},
   "source": [
    "# VERT"
   ]
  },
  {
   "cell_type": "code",
   "execution_count": 10,
   "metadata": {},
   "outputs": [],
   "source": [
    "matrice = np.delete(matrice_vert,22,1)"
   ]
  },
  {
   "cell_type": "code",
   "execution_count": 11,
   "metadata": {},
   "outputs": [
    {
     "name": "stderr",
     "output_type": "stream",
     "text": [
      "/Users/nada/miniconda3/envs/filrouge2/lib/python3.9/site-packages/umap/umap_.py:1943: UserWarning: n_jobs value -1 overridden to 1 by setting random_state. Use no seed for parallelism.\n",
      "  warn(f\"n_jobs value {self.n_jobs} overridden to 1 by setting random_state. Use no seed for parallelism.\")\n"
     ]
    }
   ],
   "source": [
    "reducer = umap.UMAP(random_state=42)\n",
    "embedding_vert = reducer.fit_transform(matrice)"
   ]
  },
  {
   "cell_type": "code",
   "execution_count": 12,
   "metadata": {},
   "outputs": [],
   "source": [
    "cah = AgglomerativeClustering(n_clusters = 4)\n",
    "cah.fit(embedding_vert)\n",
    "yhat_vert = cah.labels_"
   ]
  },
  {
   "cell_type": "markdown",
   "metadata": {},
   "source": [
    "# Bleu"
   ]
  },
  {
   "cell_type": "code",
   "execution_count": 13,
   "metadata": {},
   "outputs": [],
   "source": [
    "matrice = np.delete(matrice_bleu,22,1)"
   ]
  },
  {
   "cell_type": "code",
   "execution_count": 14,
   "metadata": {},
   "outputs": [
    {
     "name": "stderr",
     "output_type": "stream",
     "text": [
      "/Users/nada/miniconda3/envs/filrouge2/lib/python3.9/site-packages/umap/umap_.py:1943: UserWarning: n_jobs value -1 overridden to 1 by setting random_state. Use no seed for parallelism.\n",
      "  warn(f\"n_jobs value {self.n_jobs} overridden to 1 by setting random_state. Use no seed for parallelism.\")\n"
     ]
    }
   ],
   "source": [
    "reducer = umap.UMAP(random_state=42)\n",
    "embedding_bleu = reducer.fit_transform(matrice)"
   ]
  },
  {
   "cell_type": "code",
   "execution_count": 15,
   "metadata": {},
   "outputs": [],
   "source": [
    "cah = AgglomerativeClustering(n_clusters = 4)\n",
    "cah.fit(embedding_bleu)\n",
    "yhat_bleu = cah.labels_"
   ]
  },
  {
   "cell_type": "code",
   "execution_count": 16,
   "metadata": {},
   "outputs": [
    {
     "data": {
      "text/plain": [
       "array([3, 3, 3, 3, 3, 3, 3, 3, 3, 1, 1, 1, 1, 1, 1, 1, 1, 1, 0, 0, 0, 0,\n",
       "       0, 0, 0, 0, 0, 0, 0, 0, 0, 0, 0, 0, 0, 0, 0, 0, 0, 0, 0, 0, 0, 0,\n",
       "       0, 2, 2, 2, 2, 2, 2, 2, 2, 2])"
      ]
     },
     "execution_count": 16,
     "metadata": {},
     "output_type": "execute_result"
    }
   ],
   "source": [
    "yhat_rouge"
   ]
  },
  {
   "cell_type": "markdown",
   "metadata": {},
   "source": [
    "# Imposer nombre de clusters sur HDBSCAN"
   ]
  },
  {
   "cell_type": "code",
   "execution_count": 17,
   "metadata": {},
   "outputs": [],
   "source": [
    "import hdbscan\n",
    "from hdbscan.flat import (HDBSCAN_flat,\n",
    "                          approximate_predict_flat,\n",
    "                          membership_vector_flat,\n",
    "                          all_points_membership_vectors_flat)"
   ]
  },
  {
   "cell_type": "code",
   "execution_count": 18,
   "metadata": {},
   "outputs": [],
   "source": [
    "# hdbscan = HDBSCAN_flat(embedding_rouge,cluster_selection_method='leaf', n_clusters = 5)\n",
    "# yhat_rouge = hdbscan.labels_\n",
    "\n",
    "# hdbscan = HDBSCAN_flat(embedding_bleu,cluster_selection_method='leaf', n_clusters = 5)\n",
    "# yhat_bleu = hdbscan.labels_\n",
    "\n",
    "# hdbscan = HDBSCAN_flat(embedding_vert,cluster_selection_method='leaf', n_clusters = 5)\n",
    "# yhat_vert = hdbscan.labels_\n"
   ]
  },
  {
   "cell_type": "markdown",
   "metadata": {},
   "source": [
    "# Votating"
   ]
  },
  {
   "cell_type": "code",
   "execution_count": 19,
   "metadata": {},
   "outputs": [],
   "source": [
    "# embedding_bleu.shape"
   ]
  },
  {
   "cell_type": "code",
   "execution_count": 20,
   "metadata": {},
   "outputs": [],
   "source": [
    "# clusters=[]\n",
    "# clusters.append(yhat_rouge.tolist())\n",
    "# clusters.append(yhat_vert.tolist())\n",
    "# clusters.append(yhat_bleu.tolist())"
   ]
  },
  {
   "cell_type": "code",
   "execution_count": 21,
   "metadata": {},
   "outputs": [],
   "source": [
    "# n_bandes=3\n",
    "# matrice = [[[] for _ in range(0, 4)] for _ in range(4*(n_bandes-1))]\n",
    "\n",
    "# print(matrice[clusters[1][0]][clusters[0][0]])"
   ]
  },
  {
   "cell_type": "code",
   "execution_count": 22,
   "metadata": {},
   "outputs": [],
   "source": [
    "# for i in range(len(clusters[0])):\n",
    "#     matrice[clusters[1][i]][clusters[0][i]].append(i)\n",
    "#     matrice[4+clusters[2][i]][clusters[0][i]].append(i)"
   ]
  },
  {
   "cell_type": "code",
   "execution_count": 23,
   "metadata": {},
   "outputs": [],
   "source": [
    "# import random as rd \n",
    "# # Matrice de confusion\n",
    "# confusion = [[len(matrice[j][i]) for i in range(4)] for j in range(4*(n_bandes-1))]\n",
    "# confusion = np.array(confusion).astype(dtype=np.float16)\n",
    "\n",
    "# for i in range(confusion.shape[0]):\n",
    "#     for j in range(confusion.shape[1]):\n",
    "#         confusion[i, j] = confusion[i, j]/(max(confusion[i, :].sum(),(confusion[:, j].sum()/2)))\n",
    "\n",
    "# # Construction du vecteur clusters\n",
    "# vect_cluster = [0]*(4*(n_bandes-1))\n",
    "# for i in range(confusion.shape[0]):\n",
    "#     vect_cluster[i] = np.argmax(confusion[i,:])\n",
    "\n",
    "# # To relabel clustering results\n",
    "# clusters_relabeled = list(clusters)\n",
    "# j = 1\n",
    "# while j < n_bandes:\n",
    "#     for k in range(0, 4):\n",
    "#         clusters_relabeled[j] = np.where(clusters[j] == k, vect_cluster[k+4*(j-1)], clusters_relabeled[j])\n",
    "#     j += 1\n",
    "\n",
    "# # Matrice de clusterings \"relabeled\"\n",
    "# results = np.column_stack(clusters_relabeled)  # attention : cases NaN si les listes clusters ne sont pas de la même taille. np.unique va les ignorer.\n",
    "\n",
    "# # Vote et génération des clusters finaux\n",
    "# final_clusters = []\n",
    "# for i in range(len(clusters[0])):\n",
    "#     values, counts = np.unique(results[i, :], return_counts=True)\n",
    "#     if np.all(counts == 1):\n",
    "#         final_clusters.append(rd.randint(0, 4))\n",
    "#     else:\n",
    "#         final_clusters.append(values[counts.argmax()])\n",
    "# final_clusters = final_clusters\n",
    "\n",
    "# print(final_clusters)"
   ]
  },
  {
   "cell_type": "code",
   "execution_count": 24,
   "metadata": {},
   "outputs": [
    {
     "name": "stdout",
     "output_type": "stream",
     "text": [
      "[[ 315.  306.  271. ...  207.  194.   55.]\n",
      " [ 302.  311.  190. ...  197.  208.   71.]\n",
      " [ 228.  246.  298. ...  189.  171.   58.]\n",
      " ...\n",
      " [3351. 4021. 3102. ... 3369. 3546. 3950.]\n",
      " [2449. 2300. 3704. ... 3296. 3227. 3622.]\n",
      " [2196. 2894. 2903. ... 3457. 3691. 4296.]]\n"
     ]
    },
    {
     "data": {
      "text/plain": [
       "(141,)"
      ]
     },
     "execution_count": 24,
     "metadata": {},
     "output_type": "execute_result"
    }
   ],
   "source": [
    "from scipy.spatial.distance import euclidean\n",
    "import fastdtw as dtw\n",
    "\n",
    "print(matrice_rouge)\n",
    "matrice_rouge[0,:].reshape(-1)\n",
    "matrice_rouge[0,:].shape\n"
   ]
  },
  {
   "cell_type": "code",
   "execution_count": 25,
   "metadata": {},
   "outputs": [
    {
     "data": {
      "text/plain": [
       "5459.0"
      ]
     },
     "execution_count": 25,
     "metadata": {},
     "output_type": "execute_result"
    }
   ],
   "source": [
    "dtw.fastdtw(matrice_rouge[0,:].reshape(-1,1),matrice_rouge[1,:].reshape(-1,1),dist=euclidean)[0]"
   ]
  },
  {
   "cell_type": "code",
   "execution_count": 26,
   "metadata": {},
   "outputs": [
    {
     "name": "stdout",
     "output_type": "stream",
     "text": [
      "[2 0 2 2 0 1 5 2 2 3 3 3 3 3 3 3 2 3 4 4 4 4 4 4 4 4 4 4 4 4 4 4 4 4 4 4 2\n",
      " 2 2 2 2 2 2 2 2 0 0 0 0 0 0 0 0 0]\n"
     ]
    }
   ],
   "source": [
    "vote_hdbscan = CollaborativeClustering(matrice_rouge, matrice_bleu, matrice_vert, n_clusters=5)\n",
    "clusters = vote_hdbscan.umap_hdbscan_clustering()\n",
    "yhat = vote_hdbscan.iccm()\n",
    "print(yhat)"
   ]
  },
  {
   "cell_type": "code",
   "execution_count": 27,
   "metadata": {},
   "outputs": [],
   "source": [
    "vote_dtw = CollaborativeClustering(matrice_rouge, matrice_bleu, matrice_vert, n_clusters=5)\n",
    "clusters = vote_dtw.dtw_clustering()\n",
    "yhat = vote_dtw.iccm()\n",
    "print(yhat)"
   ]
  },
  {
   "cell_type": "code",
   "execution_count": null,
   "metadata": {},
   "outputs": [
    {
     "data": {
      "image/png": "[encoded data removed]",
      "text/plain": [
       "<Figure size 1000x700 with 1 Axes>"
      ]
     },
     "metadata": {},
     "output_type": "display_data"
    }
   ],
   "source": [
    "evaluator = evaluator_de_experiences(yhat, pixels_de_interet, dic_de_pixels, matrice)\n",
    "evaluator.cluster_distribution()"
   ]
  }
 ],
 "metadata": {
  "kernelspec": {
   "display_name": "FilRouge",
   "language": "python",
   "name": "python3"
  },
  "language_info": {
   "codemirror_mode": {
    "name": "ipython",
    "version": 3
   },
   "file_extension": ".py",
   "mimetype": "text/x-python",
   "name": "python",
   "nbconvert_exporter": "python",
   "pygments_lexer": "ipython3",
   "version": "3.9.18"
  }
 },
 "nbformat": 4,
 "nbformat_minor": 2
}
