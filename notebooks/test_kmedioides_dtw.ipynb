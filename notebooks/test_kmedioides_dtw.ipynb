{
 "cells": [
  {
   "cell_type": "markdown",
   "metadata": {},
   "source": [
    "Test de k-médioides sur séries temporelles (Nada)"
   ]
  },
  {
   "cell_type": "code",
   "execution_count": 7,
   "metadata": {},
   "outputs": [],
   "source": [
    "from scipy.spatial import distance\n",
    "\n",
    "#mesure de similarité dtw entre deux séries temporelles. x = un pixel sur un intervalle de temps\n",
    "def dtw(x, x_prime, q=2):\n",
    "  R=np.zeros(len(x),len(x_prime))\n",
    "  for i in range(len(x)):\n",
    "    for j in range(len(x_prime)):\n",
    "      R[i, j] = distance.euclidean(x[i], x_prime[j]) ** q\n",
    "      if i > 0 or j > 0:\n",
    "        R[i, j] += min(\n",
    "          R[i-1, j  ] if i > 0             else inf,\n",
    "          R[i  , j-1] if j > 0             else inf,\n",
    "          R[i-1, j-1] if (i > 0 and j > 0) else inf\n",
    "        )\n",
    "\n",
    "  return R[-1, -1] ** (1. / q)\n",
    "\n"
   ]
  },
  {
   "cell_type": "code",
   "execution_count": 10,
   "metadata": {},
   "outputs": [
    {
     "ename": "TypeError",
     "evalue": "Cannot interpret '5' as a data type",
     "output_type": "error",
     "traceback": [
      "\u001b[0;31m---------------------------------------------------------------------------\u001b[0m",
      "\u001b[0;31mTypeError\u001b[0m                                 Traceback (most recent call last)",
      "Cell \u001b[0;32mIn[10], line 11\u001b[0m\n\u001b[1;32m      8\u001b[0m sequence3 \u001b[39m=\u001b[39m np\u001b[39m.\u001b[39mrandom\u001b[39m.\u001b[39mrand(\u001b[39m5\u001b[39m,\u001b[39m1\u001b[39m)\n\u001b[1;32m      9\u001b[0m sequence4\u001b[39m=\u001b[39m np\u001b[39m.\u001b[39mrandom\u001b[39m.\u001b[39mrand(\u001b[39m5\u001b[39m,\u001b[39m1\u001b[39m)\n\u001b[0;32m---> 11\u001b[0m \u001b[39mprint\u001b[39m(dtw(sequence1,sequence2))\n",
      "Cell \u001b[0;32mIn[7], line 5\u001b[0m, in \u001b[0;36mdtw\u001b[0;34m(x, x_prime, q)\u001b[0m\n\u001b[1;32m      4\u001b[0m \u001b[39mdef\u001b[39;00m \u001b[39mdtw\u001b[39m(x, x_prime, q\u001b[39m=\u001b[39m\u001b[39m2\u001b[39m):\n\u001b[0;32m----> 5\u001b[0m   R\u001b[39m=\u001b[39mnp\u001b[39m.\u001b[39;49mzeros(\u001b[39mlen\u001b[39;49m(x),\u001b[39mlen\u001b[39;49m(x_prime))\n\u001b[1;32m      6\u001b[0m   \u001b[39mfor\u001b[39;00m i \u001b[39min\u001b[39;00m \u001b[39mrange\u001b[39m(\u001b[39mlen\u001b[39m(x)):\n\u001b[1;32m      7\u001b[0m     \u001b[39mfor\u001b[39;00m j \u001b[39min\u001b[39;00m \u001b[39mrange\u001b[39m(\u001b[39mlen\u001b[39m(x_prime)):\n",
      "\u001b[0;31mTypeError\u001b[0m: Cannot interpret '5' as a data type"
     ]
    }
   ],
   "source": [
    "import fastdtw\n",
    "import numpy as np\n",
    "\n",
    "#génération des matrices : \n",
    "data=np.random.rand(5,1)\n",
    "sequence1 = np.random.rand(5,1)\n",
    "sequence2 = np.random.rand(5,1)\n",
    "sequence3 = np.random.rand(5,1)\n",
    "sequence4= np.random.rand(5,1)\n",
    "\n",
    "print(dtw(sequence1,sequence2))\n"
   ]
  },
  {
   "cell_type": "code",
   "execution_count": 11,
   "metadata": {},
   "outputs": [
    {
     "ename": "TypeError",
     "evalue": "'module' object is not callable. Did you mean: 'fastdtw.fastdtw(...)'?",
     "output_type": "error",
     "traceback": [
      "\u001b[0;31m---------------------------------------------------------------------------\u001b[0m",
      "\u001b[0;31mTypeError\u001b[0m                                 Traceback (most recent call last)",
      "Cell \u001b[0;32mIn[11], line 31\u001b[0m\n\u001b[1;32m     26\u001b[0m     clustered_points \u001b[39m=\u001b[39m [[data[i] \u001b[39mfor\u001b[39;00m i \u001b[39min\u001b[39;00m cluster_indices] \u001b[39mfor\u001b[39;00m cluster_indices \u001b[39min\u001b[39;00m clusters]\n\u001b[1;32m     28\u001b[0m     \u001b[39mreturn\u001b[39;00m clustered_points, medoids\n\u001b[0;32m---> 31\u001b[0m result_clustered_points,results_medoids\u001b[39m=\u001b[39mk_medoids_clustering(data,k\u001b[39m=\u001b[39;49m\u001b[39m3\u001b[39;49m)\n\u001b[1;32m     32\u001b[0m \u001b[39mprint\u001b[39m(data)\n\u001b[1;32m     34\u001b[0m \u001b[39m# Afficher les points dans chaque cluster\u001b[39;00m\n",
      "Cell \u001b[0;32mIn[11], line 13\u001b[0m, in \u001b[0;36mk_medoids_clustering\u001b[0;34m(data, k, max_iterations)\u001b[0m\n\u001b[1;32m     11\u001b[0m clusters \u001b[39m=\u001b[39m [[] \u001b[39mfor\u001b[39;00m _ \u001b[39min\u001b[39;00m \u001b[39mrange\u001b[39m(k)]\n\u001b[1;32m     12\u001b[0m \u001b[39mfor\u001b[39;00m i, point \u001b[39min\u001b[39;00m \u001b[39menumerate\u001b[39m(data):\n\u001b[0;32m---> 13\u001b[0m     distances \u001b[39m=\u001b[39m [fastdtw(data[m], point)[\u001b[39m0\u001b[39m] \u001b[39mfor\u001b[39;00m m \u001b[39min\u001b[39;00m medoids]\n\u001b[1;32m     14\u001b[0m     cluster_assignment \u001b[39m=\u001b[39m np\u001b[39m.\u001b[39margmin(distances)\n\u001b[1;32m     15\u001b[0m     clusters[cluster_assignment]\u001b[39m.\u001b[39mappend(i)\n",
      "\u001b[0;31mTypeError\u001b[0m: 'module' object is not callable. Did you mean: 'fastdtw.fastdtw(...)'?"
     ]
    }
   ],
   "source": [
    "# Regrouper les séquences dans une liste\n",
    "data = [sequence1, sequence2, sequence3, sequence4]\n",
    "data=np.array(data)\n",
    "\n",
    "def k_medoids_clustering(data, k, max_iterations=100):\n",
    "    # Sélectionner les k médioides initiaux\n",
    "    medoids = np.random.choice(len(data), k, replace=False)\n",
    "\n",
    "    for _ in range(max_iterations):\n",
    "        # Affectation des points aux médioides\n",
    "        clusters = [[] for _ in range(k)]\n",
    "        for i, point in enumerate(data):\n",
    "            distances = [fastdtw(data[m], point)[0] for m in medoids]\n",
    "            cluster_assignment = np.argmin(distances)\n",
    "            clusters[cluster_assignment].append(i)\n",
    "\n",
    "        # Mise à jour des médioides\n",
    "        for i in range(k):\n",
    "            cluster_indices = clusters[i]\n",
    "            cluster_points = data[cluster_indices]\n",
    "            medoid_index = min([(idx, np.sum([fastdtw(data[m], data[idx])[0] for m in cluster_indices]))\n",
    "                                for idx in cluster_indices], key=lambda x: x[1])[0]\n",
    "            medoids[i] = medoid_index\n",
    "\n",
    "        # Convertir les indices des clusters en points réels\n",
    "    clustered_points = [[data[i] for i in cluster_indices] for cluster_indices in clusters]\n",
    "\n",
    "    return clustered_points, medoids\n",
    "\n",
    "\n",
    "result_clustered_points,results_medoids=k_medoids_clustering(data,k=3)\n",
    "print(data)\n",
    "\n",
    "# Afficher les points dans chaque cluster\n",
    "for i, cluster in enumerate(result_clustered_points):\n",
    "    print(f\"Cluster {i + 1}: {cluster}\")"
   ]
  },
  {
   "cell_type": "code",
   "execution_count": null,
   "metadata": {},
   "outputs": [],
   "source": []
  }
 ],
 "metadata": {
  "kernelspec": {
   "display_name": "filrouge",
   "language": "python",
   "name": "python3"
  },
  "language_info": {
   "codemirror_mode": {
    "name": "ipython",
    "version": 3
   },
   "file_extension": ".py",
   "mimetype": "text/x-python",
   "name": "python",
   "nbconvert_exporter": "python",
   "pygments_lexer": "ipython3",
   "version": "3.12.0"
  },
  "orig_nbformat": 4
 },
 "nbformat": 4,
 "nbformat_minor": 2
}
