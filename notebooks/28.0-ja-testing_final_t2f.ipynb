{
 "cells": [
  {
   "cell_type": "code",
   "execution_count": 1,
   "metadata": {},
   "outputs": [],
   "source": [
    "import sys\n",
    "import pickle\n",
    "import numpy as np"
   ]
  },
  {
   "cell_type": "markdown",
   "metadata": {},
   "source": [
    "# Here, change the local Python PATH !!!"
   ]
  },
  {
   "cell_type": "code",
   "execution_count": 2,
   "metadata": {},
   "outputs": [],
   "source": [
    "PATH_TO_PYTHON = \"/home/julian/FilRouge_territoires\""
   ]
  },
  {
   "cell_type": "code",
   "execution_count": 3,
   "metadata": {},
   "outputs": [
    {
     "data": {
      "text/plain": [
       "['/home/julian/FilRouge_territoires/notebooks',\n",
       " '/home/julian/miniconda3/envs/FilRouge/lib/python39.zip',\n",
       " '/home/julian/miniconda3/envs/FilRouge/lib/python3.9',\n",
       " '/home/julian/miniconda3/envs/FilRouge/lib/python3.9/lib-dynload',\n",
       " '',\n",
       " '/home/julian/miniconda3/envs/FilRouge/lib/python3.9/site-packages',\n",
       " '/home/julian/FilRouge_territoires']"
      ]
     },
     "execution_count": 3,
     "metadata": {},
     "output_type": "execute_result"
    }
   ],
   "source": [
    "sys.path\n",
    "sys.path.append(PATH_TO_PYTHON)\n",
    "sys.path"
   ]
  },
  {
   "cell_type": "code",
   "execution_count": 4,
   "metadata": {},
   "outputs": [],
   "source": [
    "from models.our_t2f import Time2Feature"
   ]
  },
  {
   "cell_type": "code",
   "execution_count": 5,
   "metadata": {},
   "outputs": [],
   "source": [
    "t2f = Time2Feature(IN_DIR='data/processed',\n",
    "                   OUT_DIR='results/t2f',\n",
    "                   cube_taille=(1000, 141, 8),\n",
    "                   model_type='Hierarchical',\n",
    "                   transform_type='minmax',\n",
    "                   batch_size=100,\n",
    "                   n_cores=6)"
   ]
  },
  {
   "cell_type": "code",
   "execution_count": 6,
   "metadata": {},
   "outputs": [
    {
     "name": "stdout",
     "output_type": "stream",
     "text": [
      "Doing feature extraction\n"
     ]
    },
    {
     "name": "stderr",
     "output_type": "stream",
     "text": [
      "Feature Extraction: 100%|██████████| 800/800 [01:03<00:00, 12.52it/s]\n",
      "Feature Extraction: 100%|██████████| 800/800 [01:04<00:00, 12.49it/s]\n",
      "Feature Extraction: 100%|██████████| 800/800 [01:04<00:00, 12.50it/s]\n",
      "Feature Extraction: 100%|██████████| 800/800 [01:04<00:00, 12.45it/s]\n",
      "Feature Extraction: 100%|██████████| 800/800 [01:04<00:00, 12.41it/s]\n",
      "Feature Extraction: 100%|██████████| 800/800 [01:05<00:00, 12.31it/s]\n",
      "Feature Extraction: 100%|██████████| 528/528 [00:40<00:00, 13.20it/s]\n",
      "Feature Extraction: 100%|██████████| 528/528 [00:40<00:00, 13.16it/s]\n",
      "Feature Extraction: 100%|██████████| 536/536 [00:41<00:00, 13.07it/s]\n",
      "Feature Extraction: 100%|██████████| 536/536 [00:41<00:00, 13.02it/s]\n",
      "Feature Extraction: 100%|██████████| 536/536 [00:41<00:00, 13.03it/s]\n",
      "Feature Extraction: 100%|██████████| 536/536 [00:44<00:00, 11.91it/s]\n"
     ]
    },
    {
     "name": "stdout",
     "output_type": "stream",
     "text": [
      "The shape of the dataset after the feature extraction is (1000, 6488)\n"
     ]
    }
   ],
   "source": [
    "yhat = t2f._feature_extraction()"
   ]
  },
  {
   "cell_type": "code",
   "execution_count": 7,
   "metadata": {},
   "outputs": [
    {
     "name": "stdout",
     "output_type": "stream",
     "text": [
      "The shape of the dataset after the feature selection is (1000, 221)\n"
     ]
    }
   ],
   "source": [
    "t2f._feature_selection()"
   ]
  },
  {
   "cell_type": "code",
   "execution_count": 8,
   "metadata": {},
   "outputs": [
    {
     "name": "stdout",
     "output_type": "stream",
     "text": [
      "you have not specified the number of clusters.\n",
      "Finding the number of clusters...\n",
      "We are going to use 8 clusters.\n"
     ]
    }
   ],
   "source": [
    "t2f._n_clusters()"
   ]
  },
  {
   "cell_type": "code",
   "execution_count": 9,
   "metadata": {},
   "outputs": [
    {
     "name": "stdout",
     "output_type": "stream",
     "text": [
      "Executing Hierarchical clustering...\n"
     ]
    },
    {
     "data": {
      "text/plain": [
       "array([2, 2, 2, 2, 2, 2, 2, 2, 6, 6, 3, 3, 3, 3, 1, 1, 1, 1, 1, 1, 1, 1,\n",
       "       1, 1, 1, 1, 1, 1, 1, 1, 1, 1, 1, 1, 3, 1, 1, 1, 1, 1, 3, 3, 3, 3,\n",
       "       3, 3, 3, 3, 3, 3, 2, 2, 2, 2, 2, 2, 2, 2, 6, 6, 3, 3, 3, 1, 1, 0,\n",
       "       4, 4, 4, 4, 1, 1, 1, 1, 1, 1, 1, 1, 1, 1, 1, 1, 1, 1, 1, 1, 1, 1,\n",
       "       1, 1, 3, 3, 3, 3, 3, 3, 3, 3, 3, 3, 2, 2, 2, 2, 2, 2, 2, 2, 6, 6,\n",
       "       3, 3, 3, 1, 1, 0, 4, 4, 4, 4, 4, 4, 4, 4, 4, 4, 1, 1, 1, 1, 1, 1,\n",
       "       1, 1, 1, 1, 1, 1, 1, 1, 1, 1, 1, 1, 1, 3, 3, 3, 3, 3, 2, 2, 2, 2,\n",
       "       2, 2, 2, 2, 6, 6, 3, 3, 1, 1, 0, 0, 4, 4, 4, 4, 4, 4, 4, 4, 0, 0,\n",
       "       0, 0, 4, 4, 4, 4, 1, 1, 1, 1, 1, 1, 1, 1, 1, 1, 1, 1, 1, 1, 3, 3,\n",
       "       3, 3, 2, 2, 2, 2, 2, 2, 2, 2, 6, 6, 3, 3, 1, 1, 0, 4, 4, 4, 4, 4,\n",
       "       4, 4, 4, 0, 0, 0, 0, 0, 0, 4, 4, 4, 4, 4, 4, 4, 4, 0, 1, 1, 1, 1,\n",
       "       1, 1, 1, 1, 1, 1, 1, 1, 2, 2, 2, 2, 2, 2, 2, 6, 6, 6, 3, 3, 1, 1,\n",
       "       0, 4, 4, 4, 4, 4, 4, 4, 4, 0, 0, 0, 0, 0, 0, 4, 4, 4, 4, 4, 4, 4,\n",
       "       4, 0, 3, 3, 5, 5, 1, 1, 1, 1, 1, 1, 1, 1, 2, 2, 2, 2, 2, 2, 2, 6,\n",
       "       6, 6, 3, 3, 1, 1, 0, 4, 4, 4, 4, 4, 4, 4, 4, 0, 0, 0, 0, 0, 0, 0,\n",
       "       4, 4, 4, 4, 4, 4, 4, 0, 3, 3, 5, 5, 5, 5, 5, 5, 5, 5, 5, 5, 2, 2,\n",
       "       2, 2, 2, 2, 2, 6, 6, 6, 3, 3, 1, 0, 0, 4, 4, 4, 4, 4, 4, 4, 4, 0,\n",
       "       0, 0, 0, 0, 0, 0, 4, 4, 4, 4, 4, 4, 4, 0, 3, 3, 5, 5, 5, 5, 5, 5,\n",
       "       5, 5, 5, 5, 2, 2, 2, 2, 2, 2, 2, 6, 6, 6, 3, 1, 1, 0, 0, 4, 4, 4,\n",
       "       4, 4, 0, 0, 0, 0, 0, 0, 0, 0, 0, 0, 4, 4, 4, 4, 4, 4, 4, 0, 3, 3,\n",
       "       5, 5, 5, 5, 5, 5, 5, 5, 5, 5, 2, 2, 2, 2, 2, 2, 6, 6, 6, 6, 3, 1,\n",
       "       1, 0, 4, 4, 4, 4, 4, 4, 0, 0, 0, 0, 0, 0, 0, 0, 0, 4, 4, 4, 4, 4,\n",
       "       4, 4, 4, 0, 3, 3, 5, 5, 5, 5, 5, 5, 5, 5, 5, 5, 2, 2, 2, 2, 2, 2,\n",
       "       6, 6, 6, 6, 3, 1, 1, 0, 4, 4, 4, 4, 4, 4, 0, 0, 0, 0, 0, 0, 0, 0,\n",
       "       0, 4, 4, 4, 4, 4, 4, 4, 4, 0, 3, 3, 5, 5, 5, 5, 5, 5, 5, 5, 5, 5,\n",
       "       2, 2, 2, 2, 2, 2, 6, 6, 6, 3, 3, 1, 1, 0, 4, 4, 4, 4, 4, 4, 0, 0,\n",
       "       0, 0, 0, 0, 0, 0, 0, 0, 4, 4, 4, 4, 4, 4, 4, 0, 3, 3, 5, 5, 5, 5,\n",
       "       5, 5, 5, 5, 5, 5, 2, 2, 2, 2, 2, 2, 6, 6, 6, 3, 3, 1, 1, 4, 4, 4,\n",
       "       4, 4, 4, 4, 0, 0, 0, 0, 0, 0, 0, 0, 0, 0, 4, 4, 4, 4, 4, 4, 4, 0,\n",
       "       3, 3, 5, 5, 5, 5, 5, 5, 5, 5, 5, 5, 2, 2, 2, 2, 2, 2, 6, 6, 6, 3,\n",
       "       3, 1, 1, 4, 4, 4, 4, 4, 4, 4, 0, 0, 0, 0, 0, 0, 0, 0, 0, 0, 4, 4,\n",
       "       4, 4, 4, 4, 4, 4, 4, 4, 3, 3, 3, 3, 5, 5, 5, 5, 5, 5, 2, 2, 2, 2,\n",
       "       2, 2, 6, 6, 6, 3, 1, 1, 0, 4, 4, 4, 4, 4, 4, 4, 4, 0, 0, 0, 0, 0,\n",
       "       0, 0, 0, 0, 4, 4, 4, 4, 4, 4, 4, 4, 4, 4, 3, 3, 3, 3, 3, 3, 3, 3,\n",
       "       1, 5, 2, 2, 2, 2, 2, 6, 6, 6, 6, 3, 1, 1, 0, 4, 4, 4, 4, 4, 4, 4,\n",
       "       4, 4, 7, 7, 7, 0, 0, 0, 0, 4, 4, 4, 4, 4, 4, 4, 4, 4, 4, 4, 4, 4,\n",
       "       4, 4, 4, 3, 4, 3, 3, 3, 2, 2, 2, 2, 2, 6, 6, 6, 3, 3, 1, 1, 0, 4,\n",
       "       4, 4, 4, 0, 4, 4, 3, 3, 7, 7, 7, 7, 7, 7, 7, 7, 4, 4, 4, 4, 4, 4,\n",
       "       4, 4, 4, 4, 4, 4, 4, 4, 4, 4, 4, 3, 3, 3, 2, 2, 2, 2, 6, 6, 6, 3,\n",
       "       3, 1, 1, 1, 0, 0, 0, 0, 0, 0, 0, 4, 4, 4, 7, 7, 7, 7, 7, 7, 7, 7,\n",
       "       4, 4, 4, 4, 4, 4, 4, 4, 4, 4, 4, 4, 4, 4, 4, 4, 3, 3, 3, 3, 2, 2,\n",
       "       2, 6, 6, 6, 3, 3, 3, 3, 1, 1, 0, 0, 0, 0, 0, 0, 0, 4, 4, 4, 7, 7,\n",
       "       7, 7, 7, 7, 7, 7, 4, 4, 4, 4, 4, 4, 4, 4, 4, 4, 4, 4, 4, 4, 4, 4,\n",
       "       3, 3, 3, 3, 3, 3, 3, 3, 3, 3, 3, 3, 3, 3, 1, 1, 0, 0, 0, 0, 0, 0,\n",
       "       0, 4, 4, 4, 7, 7, 7, 7, 7, 7, 4, 4, 4, 4, 4, 4, 4, 4, 4, 4, 4, 4,\n",
       "       4, 4, 4, 4, 4, 3, 3, 3, 3, 3])"
      ]
     },
     "execution_count": 9,
     "metadata": {},
     "output_type": "execute_result"
    }
   ],
   "source": [
    "t2f._clustering()"
   ]
  }
 ],
 "metadata": {
  "kernelspec": {
   "display_name": "FilRouge",
   "language": "python",
   "name": "python3"
  },
  "language_info": {
   "codemirror_mode": {
    "name": "ipython",
    "version": 3
   },
   "file_extension": ".py",
   "mimetype": "text/x-python",
   "name": "python",
   "nbconvert_exporter": "python",
   "pygments_lexer": "ipython3",
   "version": "3.9.0"
  }
 },
 "nbformat": 4,
 "nbformat_minor": 2
}
