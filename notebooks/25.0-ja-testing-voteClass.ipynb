{
 "cells": [
  {
   "cell_type": "code",
   "execution_count": 1,
   "metadata": {},
   "outputs": [],
   "source": [
    "from cookie_clusters import *"
   ]
  },
  {
   "cell_type": "code",
   "execution_count": 2,
   "metadata": {},
   "outputs": [
    {
     "data": {
      "text/plain": [
       "['/home/julian/FilRouge_territoires/notebooks',\n",
       " '/home/julian/miniconda3/envs/FilRouge/lib/python39.zip',\n",
       " '/home/julian/miniconda3/envs/FilRouge/lib/python3.9',\n",
       " '/home/julian/miniconda3/envs/FilRouge/lib/python3.9/lib-dynload',\n",
       " '',\n",
       " '/home/julian/miniconda3/envs/FilRouge/lib/python3.9/site-packages']"
      ]
     },
     "metadata": {},
     "output_type": "display_data"
    },
    {
     "data": {
      "text/plain": [
       "['/home/julian/FilRouge_territoires/notebooks',\n",
       " '/home/julian/miniconda3/envs/FilRouge/lib/python39.zip',\n",
       " '/home/julian/miniconda3/envs/FilRouge/lib/python3.9',\n",
       " '/home/julian/miniconda3/envs/FilRouge/lib/python3.9/lib-dynload',\n",
       " '',\n",
       " '/home/julian/miniconda3/envs/FilRouge/lib/python3.9/site-packages',\n",
       " '/home/julian/FilRouge_territoires']"
      ]
     },
     "metadata": {},
     "output_type": "display_data"
    }
   ],
   "source": [
    "import sys\n",
    "# show the python path\n",
    "display(sys.path)\n",
    "sys.path.append('/home/julian/FilRouge_territoires')\n",
    "display(sys.path)"
   ]
  },
  {
   "cell_type": "code",
   "execution_count": 3,
   "metadata": {},
   "outputs": [],
   "source": [
    "from models.multiple_cluster_combination_system import CollaborativeClustering"
   ]
  },
  {
   "cell_type": "code",
   "execution_count": 4,
   "metadata": {},
   "outputs": [],
   "source": [
    "import pickle\n",
    "import numpy as np\n",
    "import pandas as pd\n",
    "from sklearn.datasets import load_digits\n",
    "from sklearn.model_selection import train_test_split\n",
    "from sklearn.preprocessing import StandardScaler\n",
    "from sklearn.cluster import HDBSCAN\n",
    "import umap\n",
    "import matplotlib.pyplot as plt\n",
    "import seaborn as sns\n",
    "from mpl_toolkits.axes_grid1 import make_axes_locatable\n",
    "%matplotlib inline"
   ]
  },
  {
   "cell_type": "code",
   "execution_count": 5,
   "metadata": {},
   "outputs": [],
   "source": [
    "file = open('../data/processed/pixels_de_interet_dic.pkl', 'rb')\n",
    "dic_de_pixels = pickle.load(file)\n",
    "file.close()\n",
    "\n",
    "file = open('../data/processed/pixels_de_interet_list.pkl', 'rb')\n",
    "pixels_de_interet = pickle.load(file)\n",
    "file.close()\n",
    "\n",
    "matrice_nir = pd.read_csv('../data/processed/vec_nir.csv').to_numpy()\n",
    "matrice_rouge = pd.read_csv('../data/processed/vec_red.csv').to_numpy()\n",
    "matrice_vert = pd.read_csv('../data/processed/vec_green.csv').to_numpy()\n",
    "matrice_bleu = pd.read_csv('../data/processed/vec_blue.csv').to_numpy()\n",
    "matrice_ndvi = pd.read_csv('../data/processed/vec_ndvi.csv').to_numpy()\n",
    "matrice_ndwi = pd.read_csv('../data/processed/vec_ndwi.csv').to_numpy()"
   ]
  },
  {
   "cell_type": "markdown",
   "metadata": {},
   "source": [
    "# ROUGE"
   ]
  },
  {
   "cell_type": "code",
   "execution_count": 6,
   "metadata": {},
   "outputs": [],
   "source": [
    "matrice = np.delete(matrice_rouge,22,1)"
   ]
  },
  {
   "cell_type": "code",
   "execution_count": 7,
   "metadata": {},
   "outputs": [],
   "source": [
    "support_matrice = pd.DataFrame(matrice)\n",
    "support_matrice.head()\n",
    "\n",
    "classes = list()\n",
    "\n",
    "for i in pixels_de_interet:\n",
    "    for j, k in zip(list(dic_de_pixels.keys()), range(0, len(list(dic_de_pixels.keys())))):\n",
    "        if i in list(dic_de_pixels[j]):\n",
    "            classes.append(k)"
   ]
  },
  {
   "cell_type": "code",
   "execution_count": 8,
   "metadata": {},
   "outputs": [
    {
     "name": "stderr",
     "output_type": "stream",
     "text": [
      "/home/julian/miniconda3/envs/FilRouge/lib/python3.9/site-packages/umap/umap_.py:1943: UserWarning: n_jobs value -1 overridden to 1 by setting random_state. Use no seed for parallelism.\n",
      "  warn(f\"n_jobs value {self.n_jobs} overridden to 1 by setting random_state. Use no seed for parallelism.\")\n"
     ]
    }
   ],
   "source": [
    "reducer = umap.UMAP(random_state=42)\n",
    "embedding = reducer.fit_transform(matrice)"
   ]
  },
  {
   "cell_type": "code",
   "execution_count": 9,
   "metadata": {},
   "outputs": [],
   "source": [
    "hdb = HDBSCAN()\n",
    "hdb.fit(embedding)\n",
    "yhat_rouge = hdb.labels_"
   ]
  },
  {
   "cell_type": "markdown",
   "metadata": {},
   "source": [
    "# VERT"
   ]
  },
  {
   "cell_type": "code",
   "execution_count": 10,
   "metadata": {},
   "outputs": [],
   "source": [
    "matrice = np.delete(matrice_vert,22,1)"
   ]
  },
  {
   "cell_type": "code",
   "execution_count": 11,
   "metadata": {},
   "outputs": [
    {
     "name": "stderr",
     "output_type": "stream",
     "text": [
      "/home/julian/miniconda3/envs/FilRouge/lib/python3.9/site-packages/umap/umap_.py:1943: UserWarning: n_jobs value -1 overridden to 1 by setting random_state. Use no seed for parallelism.\n",
      "  warn(f\"n_jobs value {self.n_jobs} overridden to 1 by setting random_state. Use no seed for parallelism.\")\n"
     ]
    }
   ],
   "source": [
    "reducer = umap.UMAP(random_state=42)\n",
    "embedding = reducer.fit_transform(matrice)"
   ]
  },
  {
   "cell_type": "code",
   "execution_count": 12,
   "metadata": {},
   "outputs": [],
   "source": [
    "hdb = HDBSCAN()\n",
    "hdb.fit(embedding)\n",
    "yhat_vert = hdb.labels_"
   ]
  },
  {
   "cell_type": "markdown",
   "metadata": {},
   "source": [
    "# Bleu"
   ]
  },
  {
   "cell_type": "code",
   "execution_count": 13,
   "metadata": {},
   "outputs": [],
   "source": [
    "matrice = np.delete(matrice_bleu,22,1)"
   ]
  },
  {
   "cell_type": "code",
   "execution_count": 14,
   "metadata": {},
   "outputs": [
    {
     "name": "stderr",
     "output_type": "stream",
     "text": [
      "/home/julian/miniconda3/envs/FilRouge/lib/python3.9/site-packages/umap/umap_.py:1943: UserWarning: n_jobs value -1 overridden to 1 by setting random_state. Use no seed for parallelism.\n",
      "  warn(f\"n_jobs value {self.n_jobs} overridden to 1 by setting random_state. Use no seed for parallelism.\")\n"
     ]
    }
   ],
   "source": [
    "reducer = umap.UMAP(random_state=42)\n",
    "embedding = reducer.fit_transform(matrice)"
   ]
  },
  {
   "cell_type": "code",
   "execution_count": 15,
   "metadata": {},
   "outputs": [],
   "source": [
    "hdb = HDBSCAN()\n",
    "hdb.fit(embedding)\n",
    "yhat_bleu= hdb.labels_"
   ]
  },
  {
   "cell_type": "code",
   "execution_count": 16,
   "metadata": {},
   "outputs": [
    {
     "data": {
      "text/plain": [
       "array([ 8, -1,  8,  9,  9, -1, 11, -1,  9,  8, 11,  9, -1, -1,  9,  8,  6,\n",
       "       10, -1,  6, 10,  9,  6,  8, 10, 10, 10, -1, 12,  8,  8, 11,  8, -1,\n",
       "       13, -1, 11, -1, 10, 11, 11,  8, 10,  9,  9,  8, 11,  9,  9, 10, 10,\n",
       "        9, 12, 10, 13,  9,  9,  9,  9, -1,  6, -1, 12, -1, 10, -1, -1, -1,\n",
       "        6,  9, 11, 14,  7, -1,  7, 14,  7,  7,  7,  7, 12,  7,  7,  7,  0,\n",
       "       -1, 13, 13,  7, 13,  7, 14, 14, 14,  7, 14,  7,  7,  7, 13, 13, -1,\n",
       "       14, 14,  7,  7,  7,  7,  7,  7,  7, 13,  7,  7,  7,  5,  7,  7,  7,\n",
       "        7,  7,  6, -1,  6,  6,  6,  6,  6,  6,  6,  6, -1,  6,  6,  6, 13,\n",
       "        6,  6, -1,  6,  6,  6,  6,  6,  6,  6,  6,  6,  6,  6,  6,  6,  6,\n",
       "        6,  6,  6,  6,  6,  6,  6, -1,  6,  6,  6,  6,  6,  6,  6,  7,  6,\n",
       "        6, 12, 12, 12, 12, 12, 12, 12, 12, 12, 12, 13, 12, 12, 12, 12, 12,\n",
       "       12, 12, 12, 12, 12, 12, 12,  4,  4,  4,  4,  4,  4,  4,  7,  7, 14,\n",
       "       13,  7, 13,  7, 13,  7, 14, 13, 13, 13, 13,  0, 13,  7, 13,  0,  0,\n",
       "        0,  0,  0,  0,  0,  0,  0,  0,  0,  0,  0,  0,  0,  0,  0,  0,  0,\n",
       "        0,  0,  0,  0,  0,  0,  0,  0,  0,  0,  0,  0,  0,  0,  0,  0,  0,\n",
       "        0,  0,  0,  0,  0,  0,  0,  0,  0,  0,  0,  0,  0,  3,  3,  3,  3,\n",
       "        3,  3,  3,  3,  1,  1,  1,  1,  1,  1,  1,  1,  1,  5,  5,  5,  5,\n",
       "        5,  5,  5,  5,  5,  5,  5,  5,  5,  2,  2,  2,  2,  2,  2,  2,  2,\n",
       "        2,  2,  2,  2,  2,  2,  2,  2,  2,  2,  2])"
      ]
     },
     "execution_count": 16,
     "metadata": {},
     "output_type": "execute_result"
    }
   ],
   "source": [
    "yhat_rouge"
   ]
  },
  {
   "cell_type": "markdown",
   "metadata": {},
   "source": [
    "# Votating"
   ]
  },
  {
   "cell_type": "code",
   "execution_count": 17,
   "metadata": {},
   "outputs": [],
   "source": [
    "vote = CollaborativeClustering(yhat_rouge, yhat_vert, yhat_bleu)"
   ]
  },
  {
   "cell_type": "code",
   "execution_count": 18,
   "metadata": {},
   "outputs": [
    {
     "name": "stderr",
     "output_type": "stream",
     "text": [
      "/home/julian/FilRouge_territoires/models/multiple_cluster_combination_system.py:41: RuntimeWarning: invalid value encountered in scalar divide\n",
      "  confusion[i, j] = confusion[i, j]/(max(confusion[i, :].sum(),\n"
     ]
    },
    {
     "ename": "IndexError",
     "evalue": "tuple index out of range",
     "output_type": "error",
     "traceback": [
      "\u001b[0;31m---------------------------------------------------------------------------\u001b[0m",
      "\u001b[0;31mIndexError\u001b[0m                                Traceback (most recent call last)",
      "Cell \u001b[0;32mIn[18], line 1\u001b[0m\n\u001b[0;32m----> 1\u001b[0m yhat \u001b[38;5;241m=\u001b[39m \u001b[43mvote\u001b[49m\u001b[38;5;241;43m.\u001b[39;49m\u001b[43miccm\u001b[49m\u001b[43m(\u001b[49m\u001b[43m)\u001b[49m\n",
      "File \u001b[0;32m~/FilRouge_territoires/models/multiple_cluster_combination_system.py:51\u001b[0m, in \u001b[0;36mCollaborativeClustering.iccm\u001b[0;34m(self)\u001b[0m\n\u001b[1;32m     49\u001b[0m \u001b[38;5;66;03m# To relabel clustering results\u001b[39;00m\n\u001b[1;32m     50\u001b[0m clusters_relabeled \u001b[38;5;241m=\u001b[39m \u001b[38;5;28mself\u001b[39m\u001b[38;5;241m.\u001b[39mclusters\n\u001b[0;32m---> 51\u001b[0m clusters_relabeled[\u001b[38;5;241m1\u001b[39m] \u001b[38;5;241m=\u001b[39m np\u001b[38;5;241m.\u001b[39mwhere(\u001b[38;5;28;43mself\u001b[39;49m\u001b[38;5;241;43m.\u001b[39;49m\u001b[43mclusters\u001b[49m\u001b[43m[\u001b[49m\u001b[43mj\u001b[49m\u001b[43m]\u001b[49m \u001b[38;5;241m==\u001b[39m k, vect_cluster[k], clusters_relabeled[j])\n\u001b[1;32m     52\u001b[0m j \u001b[38;5;241m=\u001b[39m \u001b[38;5;241m2\u001b[39m\n\u001b[1;32m     53\u001b[0m \u001b[38;5;28;01mwhile\u001b[39;00m j\u001b[38;5;241m<\u001b[39m\u001b[38;5;28mlen\u001b[39m(n_clusters):\n",
      "\u001b[0;31mIndexError\u001b[0m: tuple index out of range"
     ]
    }
   ],
   "source": [
    "yhat = vote.iccm()"
   ]
  },
  {
   "cell_type": "code",
   "execution_count": 20,
   "metadata": {},
   "outputs": [
    {
     "data": {
      "image/png": "[encoded data removed]",
      "text/plain": [
       "<Figure size 1000x700 with 1 Axes>"
      ]
     },
     "metadata": {},
     "output_type": "display_data"
    }
   ],
   "source": [
    "evaluator = evaluator_de_experiences(yhat_rouge, pixels_de_interet, dic_de_pixels, matrice)\n",
    "evaluator.cluster_distribution()"
   ]
  }
 ],
 "metadata": {
  "kernelspec": {
   "display_name": "FilRouge",
   "language": "python",
   "name": "python3"
  },
  "language_info": {
   "codemirror_mode": {
    "name": "ipython",
    "version": 3
   },
   "file_extension": ".py",
   "mimetype": "text/x-python",
   "name": "python",
   "nbconvert_exporter": "python",
   "pygments_lexer": "ipython3",
   "version": "3.9.0"
  }
 },
 "nbformat": 4,
 "nbformat_minor": 2
}
