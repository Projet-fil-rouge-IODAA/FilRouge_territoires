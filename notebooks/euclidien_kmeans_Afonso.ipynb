{
 "cells": [
  {
   "cell_type": "code",
   "execution_count": 2,
   "metadata": {},
   "outputs": [],
   "source": [
    "from cookie_clusters import *\n",
    "from selection_pixels_dtw import *\n",
    "import os\n",
    "import cv2\n",
    "from PIL import Image\n",
    "import rasterio as rio\n",
    "import re\n",
    "import matplotlib.pyplot as plt\n",
    "from sklearn.cluster import KMeans"
   ]
  },
  {
   "cell_type": "code",
   "execution_count": 3,
   "metadata": {},
   "outputs": [],
   "source": [
    "pixels_de_interet = pix_danone + pix_agri + pix_ensta + pix_apt + pix_lac + pix_foret"
   ]
  },
  {
   "cell_type": "code",
   "execution_count": 4,
   "metadata": {},
   "outputs": [],
   "source": [
    "dir = \"../../ressources/images\"\n",
    "images_list = os.listdir(dir)\n",
    "\n",
    "images_2A = list()\n",
    "images_2B = list()\n",
    "prog = re.compile(r'\\w+2A')\n",
    "for image in images_list:\n",
    "    if prog.match(image):\n",
    "        images_2A.append(image)\n",
    "    else:\n",
    "        images_2B.append(image)\n",
    "        \n",
    "images_2A.sort()\n",
    "images_2B.sort()\n",
    "all_images = images_2A + images_2B\n",
    "all_images = sorted(all_images, key=lambda date: date[16:24])  "
   ]
  },
  {
   "cell_type": "code",
   "execution_count": 5,
   "metadata": {},
   "outputs": [
    {
     "name": "stderr",
     "output_type": "stream",
     "text": [
      "/tmp/ipykernel_1123/673945138.py:11: RuntimeWarning: invalid value encountered in divide\n",
      "  band_NDVI = (band1.astype(float) - band2.astype(float))/(band1 + band2)\n"
     ]
    }
   ],
   "source": [
    "list_to_use = all_images\n",
    "line = 0\n",
    "matrice = np.zeros((len(pixels_de_interet), len(list_to_use)))\n",
    "for image in list_to_use:\n",
    "    with rio.open(dir+'/'+image, 'r') as ds:\n",
    "        # arr = ds.read()\n",
    "        band1 = ds.read(1)\n",
    "        band2 = ds.read(2)\n",
    "        # band3 = ds.read(3)\n",
    "        # band4 = raster.read(4)\n",
    "        band_NDVI = (band1.astype(float) - band2.astype(float))/(band1 + band2)\n",
    "    # Extraction of target pixels\n",
    "    for pixel,j in zip(pixels_de_interet, range(len(pixels_de_interet)-1)):\n",
    "        matrice[j,line] = band_NDVI[pixel[0], pixel[1]]\n",
    "    line +=1   "
   ]
  },
  {
   "cell_type": "code",
   "execution_count": 14,
   "metadata": {},
   "outputs": [
    {
     "name": "stderr",
     "output_type": "stream",
     "text": [
      "/home/afonso/miniconda3/envs/filRouge/lib/python3.8/site-packages/sklearn/cluster/_kmeans.py:1412: FutureWarning: The default value of `n_init` will change from 10 to 'auto' in 1.4. Set the value of `n_init` explicitly to suppress the warning\n",
      "  super()._check_params_vs_input(X, default_n_init=10)\n"
     ]
    }
   ],
   "source": [
    "kmeans = KMeans(n_clusters=6)\n",
    "yhat = kmeans.fit_predict(matrice)"
   ]
  },
  {
   "cell_type": "code",
   "execution_count": 15,
   "metadata": {},
   "outputs": [],
   "source": [
    "import collections\n",
    "def affichage(yhat,pix_interet):\n",
    "    name = ''\n",
    "    dico = collections.Counter(yhat)\n",
    "    for key in list(dico.keys()):\n",
    "        dico[key] = [f'number of vectors = {dico[key]}'] \n",
    "        for index,pos in zip(yhat,range(len(yhat))):\n",
    "            if index == key:\n",
    "                if 0<=pos<=8: name = 'pix_danone'\n",
    "                elif 9<=pos<=17: name = 'pix_agri'\n",
    "                elif 18<=pos<=26: name = 'pix_ensta'\n",
    "                elif 27<=pos<=35: name = 'pix_apt'\n",
    "                elif 36<=pos<=44: name = 'pix_lac'\n",
    "                elif 45<=pos<=53: name = 'pix_foret'\n",
    "\n",
    "                dico[key].append(f'{pix_interet[pos]}:{name}')\n",
    "\n",
    "    for key in dico:\n",
    "        print(f'cluster numero {key}:\\n-------------------------------')\n",
    "        for part in dico[key]:\n",
    "            print(f'{part}')\n",
    "        print('-------------------------------')"
   ]
  },
  {
   "cell_type": "code",
   "execution_count": 16,
   "metadata": {},
   "outputs": [
    {
     "name": "stdout",
     "output_type": "stream",
     "text": [
      "cluster numero 1:\n",
      "-------------------------------\n",
      "number of vectors = 9\n",
      "[383, 497]:pix_danone\n",
      "[383, 500]:pix_danone\n",
      "[387, 501]:pix_danone\n",
      "[383, 504]:pix_danone\n",
      "[387, 505]:pix_danone\n",
      "[384, 508]:pix_danone\n",
      "[388, 509]:pix_danone\n",
      "[384, 504]:pix_danone\n",
      "[386, 504]:pix_danone\n",
      "-------------------------------\n",
      "cluster numero 2:\n",
      "-------------------------------\n",
      "number of vectors = 9\n",
      "[318, 438]:pix_agri\n",
      "[322, 435]:pix_agri\n",
      "[324, 433]:pix_agri\n",
      "[329, 429]:pix_agri\n",
      "[333, 426]:pix_agri\n",
      "[337, 424]:pix_agri\n",
      "[339, 422]:pix_agri\n",
      "[344, 418]:pix_agri\n",
      "[350, 414]:pix_agri\n",
      "-------------------------------\n",
      "cluster numero 5:\n",
      "-------------------------------\n",
      "number of vectors = 5\n",
      "[447, 618]:pix_ensta\n",
      "[433, 617]:pix_ensta\n",
      "[408, 444]:pix_apt\n",
      "[412, 463]:pix_apt\n",
      "[407, 465]:pix_apt\n",
      "-------------------------------\n",
      "cluster numero 0:\n",
      "-------------------------------\n",
      "number of vectors = 17\n",
      "[454, 627]:pix_ensta\n",
      "[454, 631]:pix_ensta\n",
      "[457, 632]:pix_ensta\n",
      "[459, 625]:pix_ensta\n",
      "[450, 641]:pix_ensta\n",
      "[443, 636]:pix_ensta\n",
      "[439, 629]:pix_ensta\n",
      "[414, 440]:pix_apt\n",
      "[392, 567]:pix_lac\n",
      "[392, 580]:pix_lac\n",
      "[401, 577]:pix_lac\n",
      "[401, 567]:pix_lac\n",
      "[395, 570]:pix_lac\n",
      "[395, 576]:pix_lac\n",
      "[397, 571]:pix_lac\n",
      "[394, 598]:pix_lac\n",
      "[388, 532]:pix_lac\n",
      "-------------------------------\n",
      "cluster numero 3:\n",
      "-------------------------------\n",
      "number of vectors = 5\n",
      "[405, 448]:pix_apt\n",
      "[412, 446]:pix_apt\n",
      "[405, 455]:pix_apt\n",
      "[420, 458]:pix_apt\n",
      "[401, 446]:pix_apt\n",
      "-------------------------------\n",
      "cluster numero 4:\n",
      "-------------------------------\n",
      "number of vectors = 9\n",
      "[472, 570]:pix_foret\n",
      "[474, 570]:pix_foret\n",
      "[476, 570]:pix_foret\n",
      "[478, 570]:pix_foret\n",
      "[480, 570]:pix_foret\n",
      "[482, 570]:pix_foret\n",
      "[484, 570]:pix_foret\n",
      "[486, 570]:pix_foret\n",
      "[488, 570]:pix_foret\n",
      "-------------------------------\n"
     ]
    }
   ],
   "source": [
    "affichage(yhat,pixels_de_interet)"
   ]
  }
 ],
 "metadata": {
  "kernelspec": {
   "display_name": "filRouge",
   "language": "python",
   "name": "python3"
  },
  "language_info": {
   "codemirror_mode": {
    "name": "ipython",
    "version": 3
   },
   "file_extension": ".py",
   "mimetype": "text/x-python",
   "name": "python",
   "nbconvert_exporter": "python",
   "pygments_lexer": "ipython3",
   "version": "3.8.18"
  }
 },
 "nbformat": 4,
 "nbformat_minor": 2
}
