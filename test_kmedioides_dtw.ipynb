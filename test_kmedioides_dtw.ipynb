{
 "cells": [
  {
   "cell_type": "markdown",
   "metadata": {},
   "source": [
    "Test de k-médioides sur séries temporelles (Nada)"
   ]
  },
  {
   "cell_type": "code",
   "execution_count": 27,
   "metadata": {},
   "outputs": [],
   "source": [
    "from scipy.spatial import distance\n",
    "import numpy as np\n",
    "import math\n",
    "\n",
    "#mesure de similarité dtw entre deux séries temporelles. x = un pixel sur un intervalle de temps\n",
    "def dtw(x, x_prime):\n",
    "  R=np.zeros((len(x),len(x_prime)))\n",
    "  for i in range(len(x)):\n",
    "    for j in range(len(x_prime)):\n",
    "      R[i, j] = distance.euclidean(x[i], x_prime[j]) ** 2\n",
    "      if i > 0 or j > 0:\n",
    "        R[i, j] += min(\n",
    "          R[i-1, j  ] if i > 0             else math.inf,\n",
    "          R[i  , j-1] if j > 0             else math.inf,\n",
    "          R[i-1, j-1] if (i > 0 and j > 0) else math.inf\n",
    "        )\n",
    "\n",
    "  return R[-1, -1] ** (1/2)\n",
    "\n"
   ]
  },
  {
   "cell_type": "code",
   "execution_count": 28,
   "metadata": {},
   "outputs": [
    {
     "name": "stdout",
     "output_type": "stream",
     "text": [
      "0.6037932019756793\n"
     ]
    }
   ],
   "source": [
    "import fastdtw\n",
    "\n",
    "#génération des matrices : \n",
    "data=np.random.rand(5,1)\n",
    "sequence1 = np.random.rand(5,1)\n",
    "sequence2 = np.random.rand(5,1)\n",
    "sequence3 = np.random.rand(5,1)\n",
    "sequence4= np.random.rand(5,1)\n",
    "\n",
    "print(dtw(sequence1,sequence2))\n"
   ]
  },
  {
   "cell_type": "code",
   "execution_count": 11,
   "metadata": {},
   "outputs": [
    {
     "ename": "TypeError",
     "evalue": "'module' object is not callable. Did you mean: 'fastdtw.fastdtw(...)'?",
     "output_type": "error",
     "traceback": [
      "\u001b[0;31m---------------------------------------------------------------------------\u001b[0m",
      "\u001b[0;31mTypeError\u001b[0m                                 Traceback (most recent call last)",
      "Cell \u001b[0;32mIn[11], line 31\u001b[0m\n\u001b[1;32m     26\u001b[0m     clustered_points \u001b[39m=\u001b[39m [[data[i] \u001b[39mfor\u001b[39;00m i \u001b[39min\u001b[39;00m cluster_indices] \u001b[39mfor\u001b[39;00m cluster_indices \u001b[39min\u001b[39;00m clusters]\n\u001b[1;32m     28\u001b[0m     \u001b[39mreturn\u001b[39;00m clustered_points, medoids\n\u001b[0;32m---> 31\u001b[0m result_clustered_points,results_medoids\u001b[39m=\u001b[39mk_medoids_clustering(data,k\u001b[39m=\u001b[39;49m\u001b[39m3\u001b[39;49m)\n\u001b[1;32m     32\u001b[0m \u001b[39mprint\u001b[39m(data)\n\u001b[1;32m     34\u001b[0m \u001b[39m# Afficher les points dans chaque cluster\u001b[39;00m\n",
      "Cell \u001b[0;32mIn[11], line 13\u001b[0m, in \u001b[0;36mk_medoids_clustering\u001b[0;34m(data, k, max_iterations)\u001b[0m\n\u001b[1;32m     11\u001b[0m clusters \u001b[39m=\u001b[39m [[] \u001b[39mfor\u001b[39;00m _ \u001b[39min\u001b[39;00m \u001b[39mrange\u001b[39m(k)]\n\u001b[1;32m     12\u001b[0m \u001b[39mfor\u001b[39;00m i, point \u001b[39min\u001b[39;00m \u001b[39menumerate\u001b[39m(data):\n\u001b[0;32m---> 13\u001b[0m     distances \u001b[39m=\u001b[39m [fastdtw(data[m], point)[\u001b[39m0\u001b[39m] \u001b[39mfor\u001b[39;00m m \u001b[39min\u001b[39;00m medoids]\n\u001b[1;32m     14\u001b[0m     cluster_assignment \u001b[39m=\u001b[39m np\u001b[39m.\u001b[39margmin(distances)\n\u001b[1;32m     15\u001b[0m     clusters[cluster_assignment]\u001b[39m.\u001b[39mappend(i)\n",
      "\u001b[0;31mTypeError\u001b[0m: 'module' object is not callable. Did you mean: 'fastdtw.fastdtw(...)'?"
     ]
    }
   ],
   "source": [
    "# Regrouper les séquences dans une liste\n",
    "data = [sequence1, sequence2, sequence3, sequence4]\n",
    "data=np.array(data)\n",
    "\n",
    "#def k_medoids_clustering(data, k, max_iterations=100):\n",
    "    # Sélectionner les k médioides initiaux\n",
    " #   means = np.random.choice(len(data), k, replace=False)\n",
    "\n",
    "  #  for _ in range(max_iterations):\n",
    "        # Affectation des points aux means\n",
    "   #     clusters = [[] for _ in range(k)]\n",
    "    #    for i, point in enumerate(data):\n",
    "     #       distances = [dtw(data[m], point)[0] for m in means]\n",
    "      #      cluster_assignment = np.argmin(distances)\n",
    "       #     clusters[cluster_assignment].append(i)\n",
    "\n",
    "        # Mise à jour des means\n",
    "        #for i in range(k):\n",
    "         #   cluster_indices = clusters[i]\n",
    "          #  cluster_points = data[cluster_indices]\n",
    "           # means_index = min([(idx, np.sum([dtw(data[m], data[idx])[0] for m in cluster_indices]))\n",
    "            #                    for idx in cluster_indices], key=lambda x: x[1])[0]\n",
    "            #medoids[i] = medoid_index\n",
    "\n",
    "        # Convertir les indices des clusters en points réels\n",
    "    #clustered_points = [[data[i] for i in cluster_indices] for cluster_indices in clusters]\n",
    "\n",
    "    #return clustered_points, medoids\n",
    "\n",
    "\n",
    "result_clustered_points,results_medoids=k_medoids_clustering(data,k=3)\n",
    "print(data)\n",
    "\n",
    "# Afficher les points dans chaque cluster\n",
    "for i, cluster in enumerate(result_clustered_points):\n",
    "    print(f\"Cluster {i + 1}: {cluster}\")"
   ]
  },
  {
   "cell_type": "code",
   "execution_count": 32,
   "metadata": {},
   "outputs": [],
   "source": [
    "import numpy as np\n",
    "from scipy.spatial.distance import cdist \n",
    " \n",
    "#Function to implement steps given in previous section\n",
    "def kmeans(x,k, no_of_iterations):\n",
    "    idx = np.random.choice(len(x), k, replace=False)\n",
    "    #Randomly choosing Centroids \n",
    "    centroids = x[idx, :] #Step 1\n",
    "     \n",
    "    #finding the distance between centroids and all the data points\n",
    "    distances = dtw(x, centroids) #Step 2\n",
    "     \n",
    "    #Centroid with the minimum Distance\n",
    "    for i in distances:\n",
    "        points=np.appen(np.argmin(i))\n",
    "    #points = np.array([np.argmin(i) for i in distances]) #Step 3\n",
    "     \n",
    "    #Repeating the above steps for a defined number of iterations\n",
    "    #Step 4\n",
    "    for _ in range(no_of_iterations): \n",
    "        centroids = []\n",
    "        for idx in range(k):\n",
    "            #Updating Centroids by taking mean of Cluster it belongs to\n",
    "            temp_cent = x[points==idx].mean(axis=0) \n",
    "            centroids.append(temp_cent)\n",
    " \n",
    "        centroids = np.vstack(centroids) #Updated Centroids \n",
    "         \n",
    "        distances = dtw(x, centroids)\n",
    "        points = np.array([np.argmin(i) for i in distances])\n",
    "         \n",
    "    return points "
   ]
  },
  {
   "cell_type": "code",
   "execution_count": 33,
   "metadata": {},
   "outputs": [
    {
     "ename": "TypeError",
     "evalue": "'numpy.float64' object is not iterable",
     "output_type": "error",
     "traceback": [
      "\u001b[0;31m---------------------------------------------------------------------------\u001b[0m",
      "\u001b[0;31mTypeError\u001b[0m                                 Traceback (most recent call last)",
      "Cell \u001b[0;32mIn[33], line 1\u001b[0m\n\u001b[0;32m----> 1\u001b[0m \u001b[39mprint\u001b[39m(kmeans(data,\u001b[39m3\u001b[39;49m,\u001b[39m5\u001b[39;49m))\n",
      "Cell \u001b[0;32mIn[32], line 14\u001b[0m, in \u001b[0;36mkmeans\u001b[0;34m(x, k, no_of_iterations)\u001b[0m\n\u001b[1;32m     11\u001b[0m distances \u001b[39m=\u001b[39m dtw(x, centroids) \u001b[39m#Step 2\u001b[39;00m\n\u001b[1;32m     13\u001b[0m \u001b[39m#Centroid with the minimum Distance\u001b[39;00m\n\u001b[0;32m---> 14\u001b[0m \u001b[39mfor\u001b[39;49;00m i \u001b[39min\u001b[39;49;00m distances:\n\u001b[1;32m     15\u001b[0m     points\u001b[39m=\u001b[39;49mnp\u001b[39m.\u001b[39;49mappen(np\u001b[39m.\u001b[39;49margmin(i))\n\u001b[1;32m     16\u001b[0m \u001b[39m#points = np.array([np.argmin(i) for i in distances]) #Step 3\u001b[39;00m\n\u001b[1;32m     17\u001b[0m  \n\u001b[1;32m     18\u001b[0m \u001b[39m#Repeating the above steps for a defined number of iterations\u001b[39;00m\n\u001b[1;32m     19\u001b[0m \u001b[39m#Step 4\u001b[39;00m\n",
      "\u001b[0;31mTypeError\u001b[0m: 'numpy.float64' object is not iterable"
     ]
    }
   ],
   "source": [
    "print(kmeans(data,3,5))"
   ]
  }
 ],
 "metadata": {
  "kernelspec": {
   "display_name": "filrouge",
   "language": "python",
   "name": "python3"
  },
  "language_info": {
   "codemirror_mode": {
    "name": "ipython",
    "version": 3
   },
   "file_extension": ".py",
   "mimetype": "text/x-python",
   "name": "python",
   "nbconvert_exporter": "python",
   "pygments_lexer": "ipython3",
   "version": "3.12.0"
  },
  "orig_nbformat": 4
 },
 "nbformat": 4,
 "nbformat_minor": 2
}
