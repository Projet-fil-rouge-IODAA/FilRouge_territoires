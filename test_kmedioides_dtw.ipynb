{
 "cells": [
  {
   "cell_type": "markdown",
   "metadata": {},
   "source": [
    "Test de k-médioides sur séries temporelles (Nada)"
   ]
  },
  {
   "cell_type": "code",
   "execution_count": null,
   "metadata": {},
   "outputs": [],
   "source": [
    "#mesure de similarité dtw entre deux séries temporelles. x = un pixel sur un intervalle de temps\n",
    "def dtw(x, x_prime, q=2):\n",
    "  for i in range(len(x)):\n",
    "    for j in range(len(x_prime)):\n",
    "      R[i, j] = d(x[i], x_prime[j]) ** q\n",
    "      if i > 0 or j > 0:\n",
    "        R[i, j] += min(\n",
    "          R[i-1, j  ] if i > 0             else inf,\n",
    "          R[i  , j-1] if j > 0             else inf,\n",
    "          R[i-1, j-1] if (i > 0 and j > 0) else inf\n",
    "          # Note that these 3 terms cannot all be\n",
    "          # inf if we have (i > 0 or j > 0)\n",
    "        )\n",
    "\n",
    "  return R[-1, -1] ** (1. / q)\n"
   ]
  },
  {
   "cell_type": "code",
   "execution_count": 28,
   "metadata": {},
   "outputs": [],
   "source": [
    "from fastdtw import fastdtw\n",
    "import numpy as np\n",
    "\n",
    "#génération des matrices : \n",
    "data=np.random.rand(5,1)\n",
    "sequence1 = np.random.rand(5,1)\n",
    "sequence2 = np.random.rand(5,1)\n",
    "sequence3 = np.random.rand(5,1)\n",
    "sequence4= np.random.rand(5,1)\n",
    "\n"
   ]
  },
  {
   "cell_type": "code",
   "execution_count": 36,
   "metadata": {},
   "outputs": [
    {
     "name": "stdout",
     "output_type": "stream",
     "text": [
      "[[[0.0757933 ]\n",
      "  [0.00929884]\n",
      "  [0.27187867]\n",
      "  [0.11191397]\n",
      "  [0.94326118]]\n",
      "\n",
      " [[0.4407942 ]\n",
      "  [0.75142857]\n",
      "  [0.48517775]\n",
      "  [0.42261062]\n",
      "  [0.23980216]]\n",
      "\n",
      " [[0.88392994]\n",
      "  [0.76802759]\n",
      "  [0.84556284]\n",
      "  [0.12171744]\n",
      "  [0.88898737]]\n",
      "\n",
      " [[0.0534712 ]\n",
      "  [0.72351879]\n",
      "  [0.64616943]\n",
      "  [0.7655685 ]\n",
      "  [0.99999708]]]\n",
      "Cluster 1: [array([[0.0757933 ],\n",
      "       [0.00929884],\n",
      "       [0.27187867],\n",
      "       [0.11191397],\n",
      "       [0.94326118]]), array([[0.0534712 ],\n",
      "       [0.72351879],\n",
      "       [0.64616943],\n",
      "       [0.7655685 ],\n",
      "       [0.99999708]])]\n",
      "Cluster 2: [array([[0.4407942 ],\n",
      "       [0.75142857],\n",
      "       [0.48517775],\n",
      "       [0.42261062],\n",
      "       [0.23980216]])]\n",
      "Cluster 3: [array([[0.88392994],\n",
      "       [0.76802759],\n",
      "       [0.84556284],\n",
      "       [0.12171744],\n",
      "       [0.88898737]])]\n"
     ]
    }
   ],
   "source": [
    "# Regrouper les séquences dans une liste\n",
    "data = [sequence1, sequence2, sequence3, sequence4]\n",
    "data=np.array(data)\n",
    "\n",
    "def k_medoids_clustering(data, k, max_iterations=100):\n",
    "    # Sélectionner les k médioides initiaux\n",
    "    medoids = np.random.choice(len(data), k, replace=False)\n",
    "\n",
    "    for _ in range(max_iterations):\n",
    "        # Affectation des points aux médioides\n",
    "        clusters = [[] for _ in range(k)]\n",
    "        for i, point in enumerate(data):\n",
    "            distances = [fastdtw(data[m], point)[0] for m in medoids]\n",
    "            cluster_assignment = np.argmin(distances)\n",
    "            clusters[cluster_assignment].append(i)\n",
    "\n",
    "        # Mise à jour des médioides\n",
    "        for i in range(k):\n",
    "            cluster_indices = clusters[i]\n",
    "            cluster_points = data[cluster_indices]\n",
    "            medoid_index = min([(idx, np.sum([fastdtw(data[m], data[idx])[0] for m in cluster_indices]))\n",
    "                                for idx in cluster_indices], key=lambda x: x[1])[0]\n",
    "            medoids[i] = medoid_index\n",
    "\n",
    "        # Convertir les indices des clusters en points réels\n",
    "    clustered_points = [[data[i] for i in cluster_indices] for cluster_indices in clusters]\n",
    "\n",
    "    return clustered_points, medoids\n",
    "\n",
    "\n",
    "result_clustered_points,results_medoids=k_medoids_clustering(data,k=3)\n",
    "print(data)\n",
    "\n",
    "# Afficher les points dans chaque cluster\n",
    "for i, cluster in enumerate(result_clustered_points):\n",
    "    print(f\"Cluster {i + 1}: {cluster}\")"
   ]
  },
  {
   "cell_type": "code",
   "execution_count": null,
   "metadata": {},
   "outputs": [],
   "source": []
  }
 ],
 "metadata": {
  "kernelspec": {
   "display_name": "filrouge",
   "language": "python",
   "name": "python3"
  },
  "language_info": {
   "codemirror_mode": {
    "name": "ipython",
    "version": 3
   },
   "file_extension": ".py",
   "mimetype": "text/x-python",
   "name": "python",
   "nbconvert_exporter": "python",
   "pygments_lexer": "ipython3",
   "version": "3.12.0"
  },
  "orig_nbformat": 4
 },
 "nbformat": 4,
 "nbformat_minor": 2
}
