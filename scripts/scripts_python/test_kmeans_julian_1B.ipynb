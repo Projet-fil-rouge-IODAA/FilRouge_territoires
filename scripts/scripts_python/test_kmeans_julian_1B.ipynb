{
 "cells": [
  {
   "cell_type": "markdown",
   "metadata": {},
   "source": [
    "##  K - means en utilisant time warping"
   ]
  },
  {
   "cell_type": "code",
   "execution_count": 1,
   "metadata": {},
   "outputs": [],
   "source": [
    "from scipy.spatial import distance\n",
    "import numpy as np\n",
    "import math\n",
    "import matplotlib as plt\n",
    "import matplotlib.pyplot as plt\n",
    "\n",
    "#mesure de similarité dtw entre deux séries temporelles. x = un pixel sur un intervalle de temps\n",
    "def dtw(x, x_prime):\n",
    "  R=np.zeros((len(x),len(x_prime)))\n",
    "  for i in range(len(x)):\n",
    "    for j in range(len(x_prime)):\n",
    "      R[i, j] = distance.euclidean(x[i], x_prime[j]) ** 2\n",
    "      if i > 0 or j > 0:\n",
    "        R[i, j] += min(\n",
    "          R[i-1, j  ] if i > 0             else math.inf,\n",
    "          R[i  , j-1] if j > 0             else math.inf,\n",
    "          R[i-1, j-1] if (i > 0 and j > 0) else math.inf\n",
    "        )\n",
    "\n",
    "  return R[-1, -1] ** (1/2)"
   ]
  },
  {
   "cell_type": "code",
   "execution_count": 2,
   "metadata": {},
   "outputs": [],
   "source": [
    "def dtw_matrice(x,centroides):\n",
    "    distances = np.zeros((len(x), len(centroides)))\n",
    "    index_i = 0\n",
    "    index_j = 0     \n",
    "    for i in x:\n",
    "        for j in centroides:\n",
    "            distances[index_i,index_j] = dtw(i.reshape(-1,1),j.reshape(-1,1))\n",
    "            index_j += 1\n",
    "        index_i +=1\n",
    "        index_j = 0\n",
    "    return distances"
   ]
  },
  {
   "cell_type": "code",
   "execution_count": 3,
   "metadata": {},
   "outputs": [
    {
     "name": "stdout",
     "output_type": "stream",
     "text": [
      "0.3891467252878922\n",
      "[[0.31830873]\n",
      " [0.76322634]\n",
      " [0.1024231 ]\n",
      " [0.26200428]\n",
      " [0.36981351]]\n"
     ]
    }
   ],
   "source": [
    "#génération des matrices : \n",
    "data=np.random.rand(5,1)\n",
    "sequence1 = np.random.rand(5,1)\n",
    "sequence2 = np.random.rand(5,1)\n",
    "sequence3 = np.random.rand(5,1)\n",
    "sequence4= np.random.rand(5,1)\n",
    "\n",
    "print(dtw(sequence1,sequence2))\n",
    "print(sequence1)"
   ]
  },
  {
   "cell_type": "code",
   "execution_count": 4,
   "metadata": {},
   "outputs": [
    {
     "name": "stdout",
     "output_type": "stream",
     "text": [
      "(4, 6)\n",
      "[[ 2 10  5  4  3  2]\n",
      " [ 7 11  5  3  1  7]\n",
      " [ 1 10  5  0  1  2]\n",
      " [10  9  8  7  6  1]]\n"
     ]
    }
   ],
   "source": [
    "# Regrouper les séquences dans une liste\n",
    "#data = [sequence1, sequence2, sequence3, sequence4]\n",
    "data = [[2,10,5,4,3,2], [7,11,5,3,1,7], [1,10,5,0,1,2], [10,9,8,7,6,1]]\n",
    "data=np.array(data)\n",
    "print(data.shape)\n",
    "print(data)"
   ]
  },
  {
   "cell_type": "code",
   "execution_count": 5,
   "metadata": {},
   "outputs": [],
   "source": [
    "#Importing required modules\n",
    " \n",
    "import numpy as np\n",
    "from scipy.spatial.distance import cdist \n",
    " \n",
    "#Function to implement steps given in previous section\n",
    "def kmeans(x,k, no_of_iterations):\n",
    "    idx = np.random.choice(len(x), k, replace=False)\n",
    "    #Randomly choosing Centroids \n",
    "    centroids = x[idx, :] #Step 1\n",
    "    \n",
    "    #finding the distance between centroids and all the data points\n",
    "    distances = dtw_matrice(x, centroids) #Step 2\n",
    "    \n",
    "    #Centroid with the minimum Distance\n",
    "    points = np.array([np.argmin(i) for i in distances]) #Step 3\n",
    "     \n",
    "    #Repeating the above steps for a defined number of iterations\n",
    "    #Step 4\n",
    "    for _ in range(no_of_iterations): \n",
    "        centroids = []\n",
    "        for idx in range(k):\n",
    "            #Updating Centroids by taking mean of Cluster it belongs to\n",
    "            temp_cent = x[points==idx].mean(axis=0) \n",
    "            centroids.append(temp_cent)\n",
    " \n",
    "        centroids = np.vstack(centroids) #Updated Centroids \n",
    "         \n",
    "        distances = cdist(x, centroids ,'euclidean')\n",
    "        points = np.array([np.argmin(i) for i in distances])\n",
    "         \n",
    "    return points"
   ]
  },
  {
   "cell_type": "code",
   "execution_count": 6,
   "metadata": {},
   "outputs": [],
   "source": [
    "label = kmeans(data,3,100)"
   ]
  },
  {
   "cell_type": "code",
   "execution_count": 7,
   "metadata": {},
   "outputs": [
    {
     "data": {
      "image/png": "[encoded data removed]",
      "text/plain": [
       "<Figure size 640x480 with 1 Axes>"
      ]
     },
     "metadata": {},
     "output_type": "display_data"
    }
   ],
   "source": [
    "#Visualize the results\n",
    "u_labels = np.unique(label)\n",
    "for i in u_labels:\n",
    "    plt.scatter(data[label == i , 0] , data[label == i , 1], data[label == i, 2] , label = i)\n",
    "plt.legend()\n",
    "plt.show()"
   ]
  },
  {
   "cell_type": "markdown",
   "metadata": {},
   "source": [
    "# Trying the algo over some selected pixels"
   ]
  },
  {
   "cell_type": "markdown",
   "metadata": {},
   "source": [
    "### Creation of the data_set"
   ]
  },
  {
   "cell_type": "code",
   "execution_count": 8,
   "metadata": {},
   "outputs": [],
   "source": [
    "from selection_pixels_dtw import *\n",
    "import os\n",
    "import cv2\n",
    "from PIL import Image\n",
    "import rasterio as rio"
   ]
  },
  {
   "cell_type": "code",
   "execution_count": 9,
   "metadata": {},
   "outputs": [
    {
     "data": {
      "text/plain": [
       "54"
      ]
     },
     "execution_count": 9,
     "metadata": {},
     "output_type": "execute_result"
    }
   ],
   "source": [
    "# List of target pixels\n",
    "pixels_de_interet = pix_danone + pix_agri + pix_ensta + pix_apt + pix_lac + pix_foret\n",
    "len(pixels_de_interet)"
   ]
  },
  {
   "cell_type": "code",
   "execution_count": 10,
   "metadata": {},
   "outputs": [],
   "source": [
    "# dir = \"../../ressources/images\"\n",
    "# images_list = os.listdir(dir)\n",
    "# with rio.open(dir+'/crop_SENTINEL2A_20151226-111142-750_L2A_T31UDQ_D_V1-1.tif', 'r') as ds:\n",
    "#     band3 = ds.read(3)\n",
    "# print(band3.shape)\n",
    "# lista = list()\n",
    "# for pixel in pixels_de_interet:\n",
    "#     lista.append(band3[pixel[0], pixel[1]])\n",
    "# print(len(lista))"
   ]
  },
  {
   "cell_type": "code",
   "execution_count": 11,
   "metadata": {},
   "outputs": [],
   "source": [
    "dir = \"../../ressources/images\"\n",
    "images_list = os.listdir(dir)\n",
    "line = 0\n",
    "matrice = np.zeros((len(pixels_de_interet), len(images_list)))\n",
    "for image in images_list:\n",
    "    with rio.open(dir+'/'+image, 'r') as ds:\n",
    "        # arr = ds.read()\n",
    "        # band1 = raster.read(1)\n",
    "        # band2 = raster.read(2)\n",
    "        band3 = ds.read(3)\n",
    "        # band4 = raster.read(4)\n",
    "    # Extraction of target pixels\n",
    "    for pixel,j in zip(pixels_de_interet, range(len(pixels_de_interet)-1)):\n",
    "        pass\n",
    "        matrice[j,line] = band3[pixel[0], pixel[1]]\n",
    "    line +=1     \n",
    "        "
   ]
  },
  {
   "cell_type": "code",
   "execution_count": 12,
   "metadata": {},
   "outputs": [
    {
     "data": {
      "image/png": "[encoded data removed]",
      "text/plain": [
       "<Figure size 1000x1000 with 2 Axes>"
      ]
     },
     "metadata": {},
     "output_type": "display_data"
    }
   ],
   "source": [
    "#Looking for a pixel\n",
    "img = (matrice/8).astype(int)\n",
    "#grayImage = cv2.cvtColor(uint_img, cv2.COLOR_GRAY2BGR)\n",
    "plt.figure(figsize=(10,10))\n",
    "plt.imshow(img)\n",
    "plt.colorbar()\n",
    "plt.show()\n"
   ]
  },
  {
   "cell_type": "code",
   "execution_count": 13,
   "metadata": {},
   "outputs": [],
   "source": [
    "yhat = kmeans(matrice,6,200)"
   ]
  },
  {
   "cell_type": "code",
   "execution_count": 14,
   "metadata": {},
   "outputs": [
    {
     "data": {
      "text/plain": [
       "9"
      ]
     },
     "execution_count": 14,
     "metadata": {},
     "output_type": "execute_result"
    }
   ],
   "source": [
    "len(pix_ensta)"
   ]
  },
  {
   "cell_type": "code",
   "execution_count": 15,
   "metadata": {},
   "outputs": [
    {
     "name": "stdout",
     "output_type": "stream",
     "text": [
      "54\n"
     ]
    },
    {
     "data": {
      "text/plain": [
       "array([0, 0, 0, 0, 0, 0, 0, 0, 0, 2, 2, 2, 2, 2, 2, 2, 2, 2, 3, 4, 4, 4,\n",
       "       4, 4, 4, 4, 3, 3, 3, 3, 3, 3, 3, 4, 4, 3, 5, 5, 5, 5, 5, 5, 5, 4,\n",
       "       4, 1, 1, 1, 1, 1, 1, 1, 1, 1])"
      ]
     },
     "execution_count": 15,
     "metadata": {},
     "output_type": "execute_result"
    }
   ],
   "source": [
    "print(len(yhat))\n",
    "yhat"
   ]
  },
  {
   "cell_type": "markdown",
   "metadata": {},
   "source": [
    "## A simple function to show the obtained results"
   ]
  },
  {
   "cell_type": "code",
   "execution_count": 16,
   "metadata": {},
   "outputs": [],
   "source": [
    "import collections\n",
    "def affichage(yhat,pix_interet):\n",
    "    name = ''\n",
    "    dico = collections.Counter(yhat)\n",
    "    for key in list(dico.keys()):\n",
    "        dico[key] = [f'number of vectors = {dico[key]}'] \n",
    "        for index,pos in zip(yhat,range(len(yhat))):\n",
    "            if index == key:\n",
    "                if 0<=pos<=8: name = 'pix_danone'\n",
    "                elif 9<=pos<=17: name = 'pix_agri'\n",
    "                elif 18<=pos<=26: name = 'pix_ensta'\n",
    "                elif 27<=pos<=35: name = 'pix_apt'\n",
    "                elif 36<=pos<=44: name = 'pix_lac'\n",
    "                elif 45<=pos<=53: name = 'pix_apt'\n",
    "\n",
    "                dico[key].append(f'{pix_interet[pos]}:{name}')\n",
    "\n",
    "    for key in dico:\n",
    "        print(f'cluster numero {key}:\\n-------------------------------')\n",
    "        for part in dico[key]:\n",
    "            print(f'{part}')\n",
    "        print('-------------------------------')\n",
    "\n"
   ]
  },
  {
   "cell_type": "code",
   "execution_count": 17,
   "metadata": {},
   "outputs": [
    {
     "name": "stdout",
     "output_type": "stream",
     "text": [
      "cluster numero 0:\n",
      "-------------------------------\n",
      "number of vectors = 9\n",
      "[383, 497]:pix_danone\n",
      "[383, 500]:pix_danone\n",
      "[387, 501]:pix_danone\n",
      "[383, 504]:pix_danone\n",
      "[387, 505]:pix_danone\n",
      "[384, 508]:pix_danone\n",
      "[388, 509]:pix_danone\n",
      "[384, 504]:pix_danone\n",
      "[386, 504]:pix_danone\n",
      "-------------------------------\n",
      "cluster numero 2:\n",
      "-------------------------------\n",
      "number of vectors = 9\n",
      "[318, 438]:pix_agri\n",
      "[322, 435]:pix_agri\n",
      "[324, 433]:pix_agri\n",
      "[329, 429]:pix_agri\n",
      "[333, 426]:pix_agri\n",
      "[337, 424]:pix_agri\n",
      "[339, 422]:pix_agri\n",
      "[344, 418]:pix_agri\n",
      "[350, 414]:pix_agri\n",
      "-------------------------------\n",
      "cluster numero 3:\n",
      "-------------------------------\n",
      "number of vectors = 9\n",
      "[447, 618]:pix_ensta\n",
      "[433, 617]:pix_ensta\n",
      "[405, 448]:pix_apt\n",
      "[408, 444]:pix_apt\n",
      "[412, 446]:pix_apt\n",
      "[412, 463]:pix_apt\n",
      "[407, 465]:pix_apt\n",
      "[405, 455]:pix_apt\n",
      "[401, 446]:pix_apt\n",
      "-------------------------------\n",
      "cluster numero 4:\n",
      "-------------------------------\n",
      "number of vectors = 11\n",
      "[454, 627]:pix_ensta\n",
      "[454, 631]:pix_ensta\n",
      "[457, 632]:pix_ensta\n",
      "[459, 625]:pix_ensta\n",
      "[450, 641]:pix_ensta\n",
      "[443, 636]:pix_ensta\n",
      "[439, 629]:pix_ensta\n",
      "[414, 440]:pix_apt\n",
      "[420, 458]:pix_apt\n",
      "[394, 598]:pix_lac\n",
      "[388, 532]:pix_lac\n",
      "-------------------------------\n",
      "cluster numero 5:\n",
      "-------------------------------\n",
      "number of vectors = 7\n",
      "[392, 567]:pix_lac\n",
      "[392, 580]:pix_lac\n",
      "[401, 577]:pix_lac\n",
      "[401, 567]:pix_lac\n",
      "[395, 570]:pix_lac\n",
      "[395, 576]:pix_lac\n",
      "[397, 571]:pix_lac\n",
      "-------------------------------\n",
      "cluster numero 1:\n",
      "-------------------------------\n",
      "number of vectors = 9\n",
      "[472, 570]:pix_apt\n",
      "[474, 570]:pix_apt\n",
      "[476, 570]:pix_apt\n",
      "[478, 570]:pix_apt\n",
      "[480, 570]:pix_apt\n",
      "[482, 570]:pix_apt\n",
      "[484, 570]:pix_apt\n",
      "[486, 570]:pix_apt\n",
      "[488, 570]:pix_apt\n",
      "-------------------------------\n"
     ]
    }
   ],
   "source": [
    "affichage(yhat,pixels_de_interet)"
   ]
  },
  {
   "cell_type": "markdown",
   "metadata": {},
   "source": []
  }
 ],
 "metadata": {
  "kernelspec": {
   "display_name": "filrouge",
   "language": "python",
   "name": "python3"
  },
  "language_info": {
   "codemirror_mode": {
    "name": "ipython",
    "version": 3
   },
   "file_extension": ".py",
   "mimetype": "text/x-python",
   "name": "python",
   "nbconvert_exporter": "python",
   "pygments_lexer": "ipython3",
   "version": "3.8.18"
  },
  "orig_nbformat": 4
 },
 "nbformat": 4,
 "nbformat_minor": 2
}
