{
 "cells": [
  {
   "cell_type": "code",
   "execution_count": 8,
   "metadata": {},
   "outputs": [],
   "source": [
    "pix_foret =[[472, 570], [474, 570], [476, 570], [478, 570], [480, 570], [482, 570], [484, 570], [486, 570], [488, 570]] #ca change uniformement (saison)\n",
    "pix_lac = [[392, 567], [392, 580], [401, 577], [401, 567], [395, 570], [395, 576], [397, 571], [394, 598], [388, 532]] #ca change un peu\n",
    "pix_apt = [[405, 448], [408, 444], [412, 446], [412, 463], [407, 465], [405, 455], [414, 440], [420, 458], [401, 446]] #ca change (construction)\n",
    "pix_ensta = [[447, 618], [454, 627], [454, 631], [457, 632], [459, 625], [450, 641], [443, 636], [439, 629], [433, 617]] #ca change (construction)\n",
    "pix_agri = [[318, 438], [322, 435], [324, 433], [329, 429], [333, 426], [337, 424], [339, 422], [344, 418], [350, 414]] #ca peut changer (saison, plantation)\n",
    "pix_danone = [[383, 497], [383, 500], [387, 501], [383, 504], [387, 505], [384, 508], [388, 509], [384, 504], [386, 504]] #ca ne change pas"
   ]
  }
 ],
 "metadata": {
  "kernelspec": {
   "display_name": "filRouge",
   "language": "python",
   "name": "python3"
  },
  "language_info": {
   "codemirror_mode": {
    "name": "ipython",
    "version": 3
   },
   "file_extension": ".py",
   "mimetype": "text/x-python",
   "name": "python",
   "nbconvert_exporter": "python",
   "pygments_lexer": "ipython3",
   "version": "3.8.18"
  }
 },
 "nbformat": 4,
 "nbformat_minor": 2
}
