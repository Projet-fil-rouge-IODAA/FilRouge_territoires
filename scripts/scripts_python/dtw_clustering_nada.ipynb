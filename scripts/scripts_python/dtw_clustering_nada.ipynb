{
 "cells": [
  {
   "cell_type": "markdown",
   "metadata": {},
   "source": [
    "**Test de k-means sur séries temporelles**\n",
    "\n"
   ]
  },
  {
   "cell_type": "code",
   "execution_count": 1,
   "metadata": {},
   "outputs": [],
   "source": [
    "#Importation des modules nécessaires\n",
    "from scipy import spatial\n",
    "import numpy as np\n",
    "import math\n",
    "import fastdtw as dtw\n",
    "from scipy.spatial.distance import euclidean\n",
    "from scipy.spatial.distance import cosine\n",
    "from cookie_clusters import *"
   ]
  },
  {
   "cell_type": "markdown",
   "metadata": {},
   "source": [
    "Ici on travaille sur des données multivariées, donc une liste de séries temporelles, avec chaque série temporelle composée de T vecteurs de 4 valeurs (=4 bandes pour chaque pixel).\n",
    "T = nombre d'élements dans chaque série temporelles (donc nombre d'images)\n",
    "Le nombre de séries temporelles correspond au nombre de pixels sur une image."
   ]
  },
  {
   "cell_type": "code",
   "execution_count": 2,
   "metadata": {},
   "outputs": [
    {
     "name": "stdout",
     "output_type": "stream",
     "text": [
      "Nombre de pixels dans chaque image: 3\n",
      "Nombre d'images: 4\n",
      "Nombre de bandes pour chaque pixel: 4\n"
     ]
    }
   ],
   "source": [
    "# Regrouper les séquences dans une liste\n",
    "data = [[[1,2,3,5],[10,23,4,8],[5,8,9,2],[4,2,12,4]], [[1,8,3,7],[9,11,14,21],[5,5,7,8],[4,3,3,5]], [[2,1,2,10],[3,10,3,7],[2,5,8,19],[1,4,9,20]]]\n",
    "#data = [sequence1,sequence2,sequence3,sequence4]\n",
    "data=np.array(data)\n",
    "#data=data.reshape((4,6,1))\n",
    "\n",
    "print(\"Nombre de pixels dans chaque image:\",data.shape[0])\n",
    "print(\"Nombre d'images:\",data.shape[1])\n",
    "print(\"Nombre de bandes pour chaque pixel:\",data.shape[2])\n"
   ]
  },
  {
   "cell_type": "code",
   "execution_count": 3,
   "metadata": {},
   "outputs": [
    {
     "name": "stdout",
     "output_type": "stream",
     "text": [
      "dtw euclidien que j'ai fait: 24.392621835300936\n",
      "fastdtw euclidien: 49.6623344800739\n",
      "dtw cosine que j'ai fait: 0.5996959224483412\n",
      "fastdtw cosine: 0.5996959224483412\n"
     ]
    }
   ],
   "source": [
    "#mesure de similarité dtw entre deux séries temporelles. x = un pixel sur un intervalle de temps\n",
    "def dtw_euclidien(x, x_prime):\n",
    "  R=np.zeros((len(x),len(x_prime)))\n",
    "  for i in range(len(x)):\n",
    "    for j in range(len(x_prime)):\n",
    "      R[i, j] = spatial.distance.euclidean(x[i], x_prime[j]) ** 2\n",
    "      if i > 0 or j > 0:\n",
    "        R[i, j] += min(\n",
    "          R[i-1, j  ] if i > 0             else math.inf,\n",
    "          R[i  , j-1] if j > 0             else math.inf,\n",
    "          R[i-1, j-1] if (i > 0 and j > 0) else math.inf\n",
    "        )\n",
    "\n",
    "  return R[-1, -1] ** (1/2)\n",
    "\n",
    "#pour tester avec le cosin\n",
    "def dtw_cosine(x, x_prime):\n",
    "  R=np.zeros((x.shape[0],x_prime.shape[0]))\n",
    "  for i in range(len(x)):\n",
    "    for j in range(len(x_prime)):\n",
    "      R[i, j] = spatial.distance.cosine(x[i], x_prime[j])\n",
    "      if i > 0 or j > 0:\n",
    "        R[i, j] += min(\n",
    "          R[i-1, j  ] if i > 0             else math.inf,\n",
    "          R[i  , j-1] if j > 0             else math.inf,\n",
    "          R[i-1, j-1] if (i > 0 and j > 0) else math.inf\n",
    "        )\n",
    "\n",
    "  return R[-1, -1]\n",
    "\n",
    "\n",
    "\n",
    "print(\"dtw euclidien que j'ai fait:\",dtw_euclidien(data[1],data[2]))\n",
    "print(\"fastdtw euclidien:\",dtw.fastdtw(data[1],data[2],dist=euclidean)[0])\n",
    "print(\"dtw cosine que j'ai fait:\",dtw_cosine(data[1],data[2]))\n",
    "print(\"fastdtw cosine:\",dtw.fastdtw(data[1],data[2],dist=cosine)[0])\n",
    "\n",
    "#scipy.spatial.distance.cdist\n"
   ]
  },
  {
   "cell_type": "markdown",
   "metadata": {},
   "source": [
    "Ici la fonction matrice prend en entrée une liste de séries temporelles, et fait une matrice de similarité en donnant la distance dtw entre chaque paire de séries temporelles.\n",
    "Peut être pratique pour faire du clustering. "
   ]
  },
  {
   "cell_type": "code",
   "execution_count": 4,
   "metadata": {},
   "outputs": [],
   "source": [
    "def matrice_dtw(X, distance):\n",
    "  N=len(X) #nb de pixels dans une image, = nb de séries temporelles qu'on a. chaque série = T vecteurs de 4 bandes\n",
    "  R=np.zeros((N,N))\n",
    "  for i in range(N):\n",
    "    for j in range(N):\n",
    "        R[i,j]= dtw.fastdtw(X[i],X[j],dist=distance)[0]\n",
    "  return R"
   ]
  },
  {
   "cell_type": "code",
   "execution_count": 5,
   "metadata": {},
   "outputs": [
    {
     "name": "stdout",
     "output_type": "stream",
     "text": [
      "[[ 0.         24.20743687 28.87905816]\n",
      " [24.20743687  0.         24.39262184]\n",
      " [28.87905816 24.39262184  0.        ]]\n",
      "[[0.         0.76730468 0.88925883]\n",
      " [0.76730468 0.         0.59969592]\n",
      " [0.88925883 0.59969592 0.        ]]\n"
     ]
    }
   ],
   "source": [
    "#pour faire une matrice de similarité : donne la similarité entre toutes les séries temporelles. la matrice X\n",
    "def matrice_dtw_euclidien(X):\n",
    "  N=len(X) #nb de pixels dans une image, = nb de séries temporelles qu'on a. chaque série = T vecteurs de 4 bandes\n",
    "  R=np.zeros((N,N))\n",
    "  for i in range(N):\n",
    "    for j in range(N):\n",
    "        R[i,j]=dtw_euclidien(X[i],X[j])\n",
    "  return R \n",
    "\n",
    "\n",
    "#pour tester avec le cosin\n",
    "def matrice_dtw_cosine(X):\n",
    "  N=len(X) #nb de pixels dans une image, = nb de séries temporelles qu'on a. chaque série = T vecteurs de 4 bandes\n",
    "  R=np.zeros((N,N))\n",
    "  for i in range(N):\n",
    "    for j in range(N):\n",
    "        R[i,j]=dtw_cosine(X[i],X[j])\n",
    "  return R \n",
    "\n",
    "print(matrice_dtw_euclidien(data))\n",
    "print(matrice_dtw_cosine(data))\n"
   ]
  },
  {
   "cell_type": "markdown",
   "metadata": {},
   "source": [
    "***KMEANS***"
   ]
  },
  {
   "cell_type": "code",
   "execution_count": 6,
   "metadata": {},
   "outputs": [
    {
     "ename": "AttributeError",
     "evalue": "'function' object has no attribute 'cdist'",
     "output_type": "error",
     "traceback": [
      "\u001b[0;31m---------------------------------------------------------------------------\u001b[0m",
      "\u001b[0;31mAttributeError\u001b[0m                            Traceback (most recent call last)",
      "Cell \u001b[0;32mIn[6], line 1\u001b[0m\n\u001b[0;32m----> 1\u001b[0m \u001b[39mprint\u001b[39m(kmeans_dtw(data,\u001b[39m3\u001b[39;49m,\u001b[39m50\u001b[39;49m,euclidean)) \u001b[39m# kmeans avec un dtw euclidien\u001b[39;00m\n\u001b[1;32m      2\u001b[0m \u001b[39mprint\u001b[39m(kmeans_dtw(data,\u001b[39m3\u001b[39m,\u001b[39m50\u001b[39m,cosine)) \u001b[39m# kmeans avec un dtw cosine\u001b[39;00m\n",
      "File \u001b[0;32m~/FilRouge_territoires/scripts/scripts_python/cookie_clusters.py:121\u001b[0m, in \u001b[0;36mkmeans_dtw\u001b[0;34m(x, k, no_of_iterations, distance)\u001b[0m\n\u001b[1;32m    117\u001b[0m         centroids\u001b[39m.\u001b[39mappend(temp_cent)\n\u001b[1;32m    119\u001b[0m     centroids \u001b[39m=\u001b[39m np\u001b[39m.\u001b[39mvstack(centroids)  \u001b[39m# Updated Centroids\u001b[39;00m\n\u001b[0;32m--> 121\u001b[0m     distances \u001b[39m=\u001b[39m distance\u001b[39m.\u001b[39;49mcdist(x, centroids, \u001b[39m'\u001b[39m\u001b[39meuclidean\u001b[39m\u001b[39m'\u001b[39m)\n\u001b[1;32m    122\u001b[0m     points \u001b[39m=\u001b[39m np\u001b[39m.\u001b[39marray([np\u001b[39m.\u001b[39margmin(i) \u001b[39mfor\u001b[39;00m i \u001b[39min\u001b[39;00m distances])\n\u001b[1;32m    124\u001b[0m \u001b[39mreturn\u001b[39;00m points\n",
      "\u001b[0;31mAttributeError\u001b[0m: 'function' object has no attribute 'cdist'"
     ]
    }
   ],
   "source": [
    "print(kmeans_dtw(data,3,50,euclidean)) # kmeans avec un dtw euclidien\n",
    "print(kmeans_dtw(data,3,50,cosine)) # kmeans avec un dtw cosine"
   ]
  },
  {
   "cell_type": "code",
   "execution_count": null,
   "metadata": {},
   "outputs": [
    {
     "name": "stdout",
     "output_type": "stream",
     "text": [
      "[2 0 1]\n",
      "[1 0 2]\n"
     ]
    }
   ],
   "source": [
    "# # Function to implement steps given in the previous section - version pour dtw\n",
    "# def kmeans_dtw(x, k, no_of_iterations,distance):\n",
    "#     idx = np.random.choice(len(x), k, replace=False)\n",
    "#     #print(x)\n",
    "\n",
    "#     # Randomly choosing Centroids \n",
    "#     centroids = x[idx, :]  # Step 1\n",
    "#     #centroids=centroids.reshape((3,6,1))\n",
    "\n",
    "#     for _ in range(no_of_iterations):\n",
    "#         # Finding the distance between centroids and all the data points\n",
    "#         distances = np.zeros((len(x), k))\n",
    "#         for i in range(len(x)):\n",
    "#             for j in range(len(centroids)):\n",
    "#                 distances[i, j] = dtw.fastdtw(x[i], centroids[j],dist=distance)[0]  # Step 2\n",
    "#         #print(\"distances:\",distances)\n",
    "\n",
    "#         # Centroid with the minimum Distance\n",
    "#         points = np.array([np.argmin(i) for i in distances])  # Step 3, on a le numéro de centroid de chaque point\n",
    "#         #print(\"points:\",points)\n",
    "#         # Updating Centroids by taking the mean of the Cluster it belongs to\n",
    "#         centroids = np.array([x[points == idx].mean(axis=0) for idx in range(k)])  # Updated Centroids, on fait la moyenne\n",
    "\n",
    "#     # for i in range(0,k):\n",
    "#     #     print(\"Cluster\",i,\":\")\n",
    "#     #     for j in points:\n",
    "#     #         if (j==i):\n",
    "#     #             print(x[j])\n",
    "                \n",
    "\n",
    "#     return points\n",
    "\n",
    "\n",
    "# print(kmeans_dtw(data,3,50,euclidean)) # kmeans avec un dtw euclidien\n",
    "# print(kmeans_dtw(data,3,50,cosine)) # kmeans avec un dtw cosine"
   ]
  },
  {
   "cell_type": "markdown",
   "metadata": {},
   "source": [
    "***DBSCAN***\n"
   ]
  },
  {
   "cell_type": "code",
   "execution_count": null,
   "metadata": {},
   "outputs": [],
   "source": [
    "data = np.array(data)"
   ]
  },
  {
   "cell_type": "code",
   "execution_count": null,
   "metadata": {},
   "outputs": [
    {
     "name": "stdout",
     "output_type": "stream",
     "text": [
      "[[ 0.         42.78197885 54.34716037]\n",
      " [42.78197885  0.         49.66233448]\n",
      " [54.34716037 49.66233448  0.        ]]\n",
      "[-1 -1 -1]\n"
     ]
    }
   ],
   "source": [
    "from sklearn.cluster import DBSCAN\n",
    "#matrice de similarité\n",
    "print(matrice_dtw(data, euclidean))\n",
    "\n",
    "#il faut bien choisir le paramètre eps\n",
    "clustering_dbscan_euc = DBSCAN(eps=50,min_samples=5, metric='precomputed').fit(matrice_dtw_euclidien(data))\n",
    "labels_dbscan_euc = clustering_dbscan_euc.labels_\n",
    "\n",
    "print(labels_dbscan_euc)"
   ]
  },
  {
   "cell_type": "code",
   "execution_count": null,
   "metadata": {},
   "outputs": [
    {
     "name": "stdout",
     "output_type": "stream",
     "text": [
      "[[0.         0.76730468 0.88925883]\n",
      " [0.76730468 0.         0.59969592]\n",
      " [0.88925883 0.59969592 0.        ]]\n",
      "[-1 -1 -1]\n"
     ]
    }
   ],
   "source": [
    "#matrice de similarité\n",
    "print(matrice_dtw_cosine(data))\n",
    "\n",
    "clustering_dbscan_cos = DBSCAN(eps=3, min_samples=5, metric='precomputed').fit(matrice_dtw_cosine(data))\n",
    "labels_dbscan_cos = clustering_dbscan_cos.labels_\n",
    "\n",
    "print(labels_dbscan_cos)"
   ]
  },
  {
   "cell_type": "markdown",
   "metadata": {},
   "source": [
    "***OPTICS***\n"
   ]
  },
  {
   "cell_type": "code",
   "execution_count": null,
   "metadata": {},
   "outputs": [
    {
     "name": "stdout",
     "output_type": "stream",
     "text": [
      "[0 0 0]\n"
     ]
    }
   ],
   "source": [
    "from sklearn.cluster import OPTICS\n",
    "\n",
    "clustering_optics_euc = OPTICS(min_samples=2, metric='precomputed').fit(matrice_dtw_euclidien(data))\n",
    "labels_optics_euc = clustering_optics_euc.labels_\n",
    "\n",
    "print(labels_optics_euc)\n"
   ]
  },
  {
   "cell_type": "code",
   "execution_count": null,
   "metadata": {},
   "outputs": [
    {
     "name": "stdout",
     "output_type": "stream",
     "text": [
      "[0 0 0]\n"
     ]
    }
   ],
   "source": [
    "clustering_optics_cos = OPTICS(min_samples=2, metric='precomputed').fit(matrice_dtw_cosine(data)) #le pb vient du reshaped\n",
    "labels_optics_cos = clustering_optics_cos.labels_\n",
    "\n",
    "print(labels_optics_cos)"
   ]
  },
  {
   "cell_type": "markdown",
   "metadata": {},
   "source": [
    "***CAH***"
   ]
  },
  {
   "cell_type": "code",
   "execution_count": null,
   "metadata": {},
   "outputs": [
    {
     "name": "stdout",
     "output_type": "stream",
     "text": [
      "[0 0 1]\n"
     ]
    }
   ],
   "source": [
    "from sklearn.cluster import AgglomerativeClustering\n",
    "\n",
    "clustering_CAH_euc = AgglomerativeClustering(metric='precomputed', linkage='complete').fit(matrice_dtw_euclidien(data))\n",
    "labels_CAH_euc = clustering_CAH_euc.labels_\n",
    "print(labels_CAH_euc)"
   ]
  },
  {
   "cell_type": "code",
   "execution_count": null,
   "metadata": {},
   "outputs": [
    {
     "name": "stdout",
     "output_type": "stream",
     "text": [
      "[1 0 0]\n"
     ]
    }
   ],
   "source": [
    "clustering_CAH_cos = AgglomerativeClustering(metric='precomputed', linkage='complete').fit(matrice_dtw_cosine(data))\n",
    "labels_CAH_cos = clustering_CAH_cos.labels_\n",
    "print(labels)"
   ]
  },
  {
   "cell_type": "markdown",
   "metadata": {},
   "source": [
    "***TEST SUR LE SET DE PIXELS EXTRAITS DES IMAGES SATELLITES RÉELLES***"
   ]
  },
  {
   "cell_type": "code",
   "execution_count": null,
   "metadata": {},
   "outputs": [],
   "source": [
    "import os\n",
    "import cv2\n",
    "from PIL import Image\n",
    "import rasterio as rio\n",
    "import re\n",
    "import matplotlib.pyplot as plt\n"
   ]
  },
  {
   "cell_type": "code",
   "execution_count": null,
   "metadata": {},
   "outputs": [],
   "source": [
    "pixels_de_interet = create_dic_pixels()\n",
    "\n",
    "pix_danone= pixels_de_interet['pix_danone']\n",
    "pix_agri = pixels_de_interet['pix_agri']\n",
    "pix_ensta = pixels_de_interet['pix_ensta']\n",
    "pix_apt = pixels_de_interet['pix_apt']\n",
    "pix_lac = pixels_de_interet['pix_lac']\n",
    "pix_foret =  pixels_de_interet['pix_foret']"
   ]
  },
  {
   "cell_type": "code",
   "execution_count": null,
   "metadata": {},
   "outputs": [
    {
     "data": {
      "text/plain": [
       "54"
      ]
     },
     "execution_count": 47,
     "metadata": {},
     "output_type": "execute_result"
    }
   ],
   "source": [
    "# # List of target pixels\n",
    "# pixels_de_interet = pix_danone + pix_agri + pix_ensta + pix_apt + pix_lac + pix_foret\n",
    "# len(pixels_de_interet)"
   ]
  },
  {
   "cell_type": "code",
   "execution_count": null,
   "metadata": {},
   "outputs": [],
   "source": [
    "dir = \"../../ressources/images\"\n",
    "images_list = os.listdir(dir)\n",
    "\n",
    "images_2A = list()\n",
    "\n",
    "prog = re.compile(r'\\w+2A')\n",
    "for image in images_list:\n",
    "    if prog.match(image):\n",
    "        images_2A.append(image)\n",
    "\n",
    "        \n",
    "images_2A.sort()\n",
    "images_2A = np.array(sorted(images_2A, key=lambda date: date[16:24]))  "
   ]
  },
  {
   "cell_type": "markdown",
   "metadata": {},
   "source": [
    "Help je sais pas utiliser raster + ça marche pas sur mon envt filrouge."
   ]
  },
  {
   "cell_type": "code",
   "execution_count": null,
   "metadata": {},
   "outputs": [
    {
     "ename": "RasterioIOError",
     "evalue": "'../../ressources/images/crop_SENTINEL2A_20151226-111142-750_L2A_T31UDQ_D_V1-1.tif' not recognized as a supported file format.",
     "output_type": "error",
     "traceback": [
      "\u001b[0;31m---------------------------------------------------------------------------\u001b[0m",
      "\u001b[0;31mCPLE_OpenFailedError\u001b[0m                      Traceback (most recent call last)",
      "File \u001b[0;32mrasterio/_base.pyx:310\u001b[0m, in \u001b[0;36mrasterio._base.DatasetBase.__init__\u001b[0;34m()\u001b[0m\n",
      "File \u001b[0;32mrasterio/_base.pyx:221\u001b[0m, in \u001b[0;36mrasterio._base.open_dataset\u001b[0;34m()\u001b[0m\n",
      "File \u001b[0;32mrasterio/_err.pyx:221\u001b[0m, in \u001b[0;36mrasterio._err.exc_wrap_pointer\u001b[0;34m()\u001b[0m\n",
      "\u001b[0;31mCPLE_OpenFailedError\u001b[0m: '../../ressources/images/crop_SENTINEL2A_20151226-111142-750_L2A_T31UDQ_D_V1-1.tif' not recognized as a supported file format.",
      "\nDuring handling of the above exception, another exception occurred:\n",
      "\u001b[0;31mRasterioIOError\u001b[0m                           Traceback (most recent call last)",
      "Cell \u001b[0;32mIn[6], line 5\u001b[0m\n\u001b[1;32m      3\u001b[0m matrice \u001b[39m=\u001b[39m np\u001b[39m.\u001b[39mzeros((\u001b[39mlen\u001b[39m(pixels_de_interet), \u001b[39mlen\u001b[39m(list_to_use)))\n\u001b[1;32m      4\u001b[0m \u001b[39mfor\u001b[39;00m image \u001b[39min\u001b[39;00m list_to_use:\n\u001b[0;32m----> 5\u001b[0m     \u001b[39mwith\u001b[39;00m rio\u001b[39m.\u001b[39;49mopen(\u001b[39mdir\u001b[39;49m\u001b[39m+\u001b[39;49m\u001b[39m'\u001b[39;49m\u001b[39m/\u001b[39;49m\u001b[39m'\u001b[39;49m\u001b[39m+\u001b[39;49mimage, \u001b[39m'\u001b[39;49m\u001b[39mr\u001b[39;49m\u001b[39m'\u001b[39;49m) \u001b[39mas\u001b[39;00m ds:\n\u001b[1;32m      6\u001b[0m         \u001b[39m# arr = ds.read()\u001b[39;00m\n\u001b[1;32m      7\u001b[0m         band1 \u001b[39m=\u001b[39m ds\u001b[39m.\u001b[39mread(\u001b[39m1\u001b[39m)\n\u001b[1;32m      8\u001b[0m         band2 \u001b[39m=\u001b[39m ds\u001b[39m.\u001b[39mread(\u001b[39m2\u001b[39m)\n",
      "File \u001b[0;32m~/miniconda3/envs/filrouge2/lib/python3.9/site-packages/rasterio/env.py:451\u001b[0m, in \u001b[0;36mensure_env_with_credentials.<locals>.wrapper\u001b[0;34m(*args, **kwds)\u001b[0m\n\u001b[1;32m    448\u001b[0m     session \u001b[39m=\u001b[39m DummySession()\n\u001b[1;32m    450\u001b[0m \u001b[39mwith\u001b[39;00m env_ctor(session\u001b[39m=\u001b[39msession):\n\u001b[0;32m--> 451\u001b[0m     \u001b[39mreturn\u001b[39;00m f(\u001b[39m*\u001b[39;49margs, \u001b[39m*\u001b[39;49m\u001b[39m*\u001b[39;49mkwds)\n",
      "File \u001b[0;32m~/miniconda3/envs/filrouge2/lib/python3.9/site-packages/rasterio/__init__.py:304\u001b[0m, in \u001b[0;36mopen\u001b[0;34m(fp, mode, driver, width, height, count, crs, transform, dtype, nodata, sharing, **kwargs)\u001b[0m\n\u001b[1;32m    301\u001b[0m path \u001b[39m=\u001b[39m _parse_path(raw_dataset_path)\n\u001b[1;32m    303\u001b[0m \u001b[39mif\u001b[39;00m mode \u001b[39m==\u001b[39m \u001b[39m\"\u001b[39m\u001b[39mr\u001b[39m\u001b[39m\"\u001b[39m:\n\u001b[0;32m--> 304\u001b[0m     dataset \u001b[39m=\u001b[39m DatasetReader(path, driver\u001b[39m=\u001b[39;49mdriver, sharing\u001b[39m=\u001b[39;49msharing, \u001b[39m*\u001b[39;49m\u001b[39m*\u001b[39;49mkwargs)\n\u001b[1;32m    305\u001b[0m \u001b[39melif\u001b[39;00m mode \u001b[39m==\u001b[39m \u001b[39m\"\u001b[39m\u001b[39mr+\u001b[39m\u001b[39m\"\u001b[39m:\n\u001b[1;32m    306\u001b[0m     dataset \u001b[39m=\u001b[39m get_writer_for_path(path, driver\u001b[39m=\u001b[39mdriver)(\n\u001b[1;32m    307\u001b[0m         path, mode, driver\u001b[39m=\u001b[39mdriver, sharing\u001b[39m=\u001b[39msharing, \u001b[39m*\u001b[39m\u001b[39m*\u001b[39mkwargs\n\u001b[1;32m    308\u001b[0m     )\n",
      "File \u001b[0;32mrasterio/_base.pyx:312\u001b[0m, in \u001b[0;36mrasterio._base.DatasetBase.__init__\u001b[0;34m()\u001b[0m\n",
      "\u001b[0;31mRasterioIOError\u001b[0m: '../../ressources/images/crop_SENTINEL2A_20151226-111142-750_L2A_T31UDQ_D_V1-1.tif' not recognized as a supported file format."
     ]
    }
   ],
   "source": [
    "\n",
    "list_to_use = images_2A\n",
    "line = 0\n",
    "matrice = np.zeros((len(pixels_de_interet), len(list_to_use)))\n",
    "for image in list_to_use:\n",
    "    with rio.open(dir+'/'+image, 'r') as ds:\n",
    "        # arr = ds.read()\n",
    "        band1 = ds.read(1)\n",
    "        band2 = ds.read(2)\n",
    "        band3 = ds.read(3)\n",
    "        band4 = ds.read(4)\n",
    "    # Extraction of target pixels\n",
    "    for pixel,j in zip(pixels_de_interet, range(len(pixels_de_interet)-1)):\n",
    "        pass\n",
    "        matrice[j,line] = band3[pixel[0], pixel[1]]\n",
    "    line +=1     \n",
    "        \n",
    "        "
   ]
  },
  {
   "cell_type": "code",
   "execution_count": null,
   "metadata": {},
   "outputs": [
    {
     "data": {
      "text/plain": [
       "(6, 10)"
      ]
     },
     "execution_count": 5,
     "metadata": {},
     "output_type": "execute_result"
    }
   ],
   "source": [
    "# chelou = np.argmax(matrice[0])\n",
    "# matrice = np.delete(matrice,chelou,1)\n",
    "type(matrice)\n",
    "matrice.shape"
   ]
  },
  {
   "cell_type": "code",
   "execution_count": null,
   "metadata": {},
   "outputs": [
    {
     "ename": "ValueError",
     "evalue": "Input vector should be 1-D.",
     "output_type": "error",
     "traceback": [
      "\u001b[0;31m---------------------------------------------------------------------------\u001b[0m",
      "\u001b[0;31mValueError\u001b[0m                                Traceback (most recent call last)",
      "Cell \u001b[0;32mIn[25], line 8\u001b[0m\n\u001b[1;32m      1\u001b[0m \u001b[39m#KMEANS\u001b[39;00m\n\u001b[1;32m      2\u001b[0m \n\u001b[1;32m      3\u001b[0m \u001b[39m#DBSCAN\u001b[39;00m\n\u001b[0;32m   (...)\u001b[0m\n\u001b[1;32m      6\u001b[0m \n\u001b[1;32m      7\u001b[0m \u001b[39m#CAH\u001b[39;00m\n\u001b[0;32m----> 8\u001b[0m clustering_CAH_euc \u001b[39m=\u001b[39m AgglomerativeClustering(metric\u001b[39m=\u001b[39m\u001b[39m'\u001b[39m\u001b[39mprecomputed\u001b[39m\u001b[39m'\u001b[39m, linkage\u001b[39m=\u001b[39m\u001b[39m'\u001b[39m\u001b[39mcomplete\u001b[39m\u001b[39m'\u001b[39m)\u001b[39m.\u001b[39mfit(matrice_dtw_euclidien(images_2A))\n\u001b[1;32m      9\u001b[0m labels \u001b[39m=\u001b[39m clustering_CAH_euc\u001b[39m.\u001b[39mlabels_\n\u001b[1;32m     10\u001b[0m \u001b[39mprint\u001b[39m(labels)\n",
      "Cell \u001b[0;32mIn[4], line 7\u001b[0m, in \u001b[0;36mmatrice_dtw_euclidien\u001b[0;34m(X)\u001b[0m\n\u001b[1;32m      5\u001b[0m \u001b[39mfor\u001b[39;00m i \u001b[39min\u001b[39;00m \u001b[39mrange\u001b[39m(N):\n\u001b[1;32m      6\u001b[0m   \u001b[39mfor\u001b[39;00m j \u001b[39min\u001b[39;00m \u001b[39mrange\u001b[39m(N):\n\u001b[0;32m----> 7\u001b[0m       R[i,j]\u001b[39m=\u001b[39mdtw_euclidien(X[i],X[j])\n\u001b[1;32m      8\u001b[0m \u001b[39mreturn\u001b[39;00m R\n",
      "Cell \u001b[0;32mIn[3], line 6\u001b[0m, in \u001b[0;36mdtw_euclidien\u001b[0;34m(x, x_prime)\u001b[0m\n\u001b[1;32m      4\u001b[0m \u001b[39mfor\u001b[39;00m i \u001b[39min\u001b[39;00m \u001b[39mrange\u001b[39m(\u001b[39mlen\u001b[39m(x)):\n\u001b[1;32m      5\u001b[0m   \u001b[39mfor\u001b[39;00m j \u001b[39min\u001b[39;00m \u001b[39mrange\u001b[39m(\u001b[39mlen\u001b[39m(x_prime)):\n\u001b[0;32m----> 6\u001b[0m     R[i, j] \u001b[39m=\u001b[39m spatial\u001b[39m.\u001b[39;49mdistance\u001b[39m.\u001b[39;49meuclidean(x[i], x_prime[j]) \u001b[39m*\u001b[39m\u001b[39m*\u001b[39m \u001b[39m2\u001b[39m\n\u001b[1;32m      7\u001b[0m     \u001b[39mif\u001b[39;00m i \u001b[39m>\u001b[39m \u001b[39m0\u001b[39m \u001b[39mor\u001b[39;00m j \u001b[39m>\u001b[39m \u001b[39m0\u001b[39m:\n\u001b[1;32m      8\u001b[0m       R[i, j] \u001b[39m+\u001b[39m\u001b[39m=\u001b[39m \u001b[39mmin\u001b[39m(\n\u001b[1;32m      9\u001b[0m         R[i\u001b[39m-\u001b[39m\u001b[39m1\u001b[39m, j  ] \u001b[39mif\u001b[39;00m i \u001b[39m>\u001b[39m \u001b[39m0\u001b[39m             \u001b[39melse\u001b[39;00m math\u001b[39m.\u001b[39minf,\n\u001b[1;32m     10\u001b[0m         R[i  , j\u001b[39m-\u001b[39m\u001b[39m1\u001b[39m] \u001b[39mif\u001b[39;00m j \u001b[39m>\u001b[39m \u001b[39m0\u001b[39m             \u001b[39melse\u001b[39;00m math\u001b[39m.\u001b[39minf,\n\u001b[1;32m     11\u001b[0m         R[i\u001b[39m-\u001b[39m\u001b[39m1\u001b[39m, j\u001b[39m-\u001b[39m\u001b[39m1\u001b[39m] \u001b[39mif\u001b[39;00m (i \u001b[39m>\u001b[39m \u001b[39m0\u001b[39m \u001b[39mand\u001b[39;00m j \u001b[39m>\u001b[39m \u001b[39m0\u001b[39m) \u001b[39melse\u001b[39;00m math\u001b[39m.\u001b[39minf\n\u001b[1;32m     12\u001b[0m       )\n",
      "File \u001b[0;32m~/miniconda3/envs/filrouge2/lib/python3.9/site-packages/scipy/spatial/distance.py:536\u001b[0m, in \u001b[0;36meuclidean\u001b[0;34m(u, v, w)\u001b[0m\n\u001b[1;32m    500\u001b[0m \u001b[39mdef\u001b[39;00m \u001b[39meuclidean\u001b[39m(u, v, w\u001b[39m=\u001b[39m\u001b[39mNone\u001b[39;00m):\n\u001b[1;32m    501\u001b[0m \u001b[39m    \u001b[39m\u001b[39m\"\"\"\u001b[39;00m\n\u001b[1;32m    502\u001b[0m \u001b[39m    Computes the Euclidean distance between two 1-D arrays.\u001b[39;00m\n\u001b[1;32m    503\u001b[0m \n\u001b[0;32m   (...)\u001b[0m\n\u001b[1;32m    534\u001b[0m \n\u001b[1;32m    535\u001b[0m \u001b[39m    \"\"\"\u001b[39;00m\n\u001b[0;32m--> 536\u001b[0m     \u001b[39mreturn\u001b[39;00m minkowski(u, v, p\u001b[39m=\u001b[39;49m\u001b[39m2\u001b[39;49m, w\u001b[39m=\u001b[39;49mw)\n",
      "File \u001b[0;32m~/miniconda3/envs/filrouge2/lib/python3.9/site-packages/scipy/spatial/distance.py:479\u001b[0m, in \u001b[0;36mminkowski\u001b[0;34m(u, v, p, w)\u001b[0m\n\u001b[1;32m    429\u001b[0m \u001b[39mdef\u001b[39;00m \u001b[39mminkowski\u001b[39m(u, v, p\u001b[39m=\u001b[39m\u001b[39m2\u001b[39m, w\u001b[39m=\u001b[39m\u001b[39mNone\u001b[39;00m):\n\u001b[1;32m    430\u001b[0m \u001b[39m    \u001b[39m\u001b[39m\"\"\"\u001b[39;00m\n\u001b[1;32m    431\u001b[0m \u001b[39m    Compute the Minkowski distance between two 1-D arrays.\u001b[39;00m\n\u001b[1;32m    432\u001b[0m \n\u001b[0;32m   (...)\u001b[0m\n\u001b[1;32m    477\u001b[0m \n\u001b[1;32m    478\u001b[0m \u001b[39m    \"\"\"\u001b[39;00m\n\u001b[0;32m--> 479\u001b[0m     u \u001b[39m=\u001b[39m _validate_vector(u)\n\u001b[1;32m    480\u001b[0m     v \u001b[39m=\u001b[39m _validate_vector(v)\n\u001b[1;32m    481\u001b[0m     \u001b[39mif\u001b[39;00m p \u001b[39m<\u001b[39m\u001b[39m=\u001b[39m \u001b[39m0\u001b[39m:\n",
      "File \u001b[0;32m~/miniconda3/envs/filrouge2/lib/python3.9/site-packages/scipy/spatial/distance.py:318\u001b[0m, in \u001b[0;36m_validate_vector\u001b[0;34m(u, dtype)\u001b[0m\n\u001b[1;32m    316\u001b[0m \u001b[39mif\u001b[39;00m u\u001b[39m.\u001b[39mndim \u001b[39m==\u001b[39m \u001b[39m1\u001b[39m:\n\u001b[1;32m    317\u001b[0m     \u001b[39mreturn\u001b[39;00m u\n\u001b[0;32m--> 318\u001b[0m \u001b[39mraise\u001b[39;00m \u001b[39mValueError\u001b[39;00m(\u001b[39m\"\u001b[39m\u001b[39mInput vector should be 1-D.\u001b[39m\u001b[39m\"\u001b[39m)\n",
      "\u001b[0;31mValueError\u001b[0m: Input vector should be 1-D."
     ]
    }
   ],
   "source": [
    "#KMEANS - euclidien\n",
    "print(kmeans_dtw(matrice,3,50,euclidean))\n",
    "\n",
    "#DBSCAN - euclidien\n",
    "clustering_dbscan = DBSCAN(eps=50,min_samples=5, metric='precomputed').fit(matrice_dtw_euclidien(matrice))\n",
    "labels_dbscan = clustering_dbscan.labels_\n",
    "print(labels_dbscan)\n",
    "\n",
    "#OPTICS - euclidien\n",
    "clustering_optics = OPTICS(min_samples=2, metric='precomputed').fit(matrice_dtw_euclidien(matrice))\n",
    "labels_optics = clustering_optics.labels_\n",
    "print(labels_optics)\n",
    "\n",
    "#CAH - euclidien\n",
    "clustering_CAH = AgglomerativeClustering(metric='precomputed', linkage='complete').fit(matrice_dtw_euclidien(matrice))\n",
    "labels_CAH = clustering_CAH.labels_\n",
    "print(labels_CAH)"
   ]
  },
  {
   "cell_type": "code",
   "execution_count": null,
   "metadata": {},
   "outputs": [
    {
     "ename": "NameError",
     "evalue": "name 'matrice' is not defined",
     "output_type": "error",
     "traceback": [
      "\u001b[0;31m---------------------------------------------------------------------------\u001b[0m",
      "\u001b[0;31mNameError\u001b[0m                                 Traceback (most recent call last)",
      "Cell \u001b[0;32mIn[10], line 1\u001b[0m\n\u001b[0;32m----> 1\u001b[0m yhat \u001b[39m=\u001b[39m kmeans_dtw(matrice,\u001b[39m6\u001b[39m,\u001b[39m200\u001b[39m,euclidean)\n\u001b[1;32m      3\u001b[0m \u001b[39mimport\u001b[39;00m \u001b[39mcollections\u001b[39;00m\n\u001b[1;32m      4\u001b[0m \u001b[39mdef\u001b[39;00m \u001b[39maffichage\u001b[39m(yhat,pix_interet):\n",
      "\u001b[0;31mNameError\u001b[0m: name 'matrice' is not defined"
     ]
    }
   ],
   "source": [
    "#AFFICHAGE\n",
    "\n",
    "import collections\n",
    "def affichage(yhat,pix_interet):\n",
    "    name = ''\n",
    "    dico = collections.Counter(yhat)\n",
    "    for key in list(dico.keys()):\n",
    "        dico[key] = [f'number of vectors = {dico[key]}'] \n",
    "        for index,pos in zip(yhat,range(len(yhat))):\n",
    "            if index == key:\n",
    "                if 0<=pos<=8: name = 'pix_danone'\n",
    "                elif 9<=pos<=17: name = 'pix_agri'\n",
    "                elif 18<=pos<=26: name = 'pix_ensta'\n",
    "                elif 27<=pos<=35: name = 'pix_apt'\n",
    "                elif 36<=pos<=44: name = 'pix_lac'\n",
    "                elif 45<=pos<=53: name = 'pix_apt'\n",
    "\n",
    "                dico[key].append(f'{pix_interet[pos]}:{name}')\n",
    "\n",
    "    for key in dico:\n",
    "        print(f'cluster numero {key}:\\n-------------------------------')\n",
    "        for part in dico[key]:\n",
    "            print(f'{part}')\n",
    "        print('-------------------------------')\n",
    "\n",
    "\n",
    "affichage(yhat_kmeans,pixels_de_interet)\n",
    "affichage(yhat_dbscan,pixels_de_interet)\n",
    "affichage(yhat_optics,pixels_de_interet)\n",
    "affichage(yhat_cah,pixels_de_interet)\n"
   ]
  }
 ],
 "metadata": {
  "kernelspec": {
   "display_name": "filrouge",
   "language": "python",
   "name": "python3"
  },
  "language_info": {
   "codemirror_mode": {
    "name": "ipython",
    "version": 3
   },
   "file_extension": ".py",
   "mimetype": "text/x-python",
   "name": "python",
   "nbconvert_exporter": "python",
   "pygments_lexer": "ipython3",
   "version": "3.9.18"
  },
  "orig_nbformat": 4
 },
 "nbformat": 4,
 "nbformat_minor": 2
}
