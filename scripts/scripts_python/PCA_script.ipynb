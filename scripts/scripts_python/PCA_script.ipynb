{
 "cells": [
  {
   "cell_type": "markdown",
   "metadata": {},
   "source": [
    "Hello world"
   ]
  },
  {
   "cell_type": "code",
   "execution_count": 7,
   "metadata": {},
   "outputs": [],
   "source": [
    "from selection_pixels_dtw import *\n",
    "from sklearn.decomposition import PCA\n",
    "import os\n",
    "import cv2\n",
    "from PIL import Image\n",
    "import rasterio as rio\n",
    "import re"
   ]
  },
  {
   "cell_type": "code",
   "execution_count": 3,
   "metadata": {},
   "outputs": [
    {
     "data": {
      "text/plain": [
       "54"
      ]
     },
     "execution_count": 3,
     "metadata": {},
     "output_type": "execute_result"
    }
   ],
   "source": [
    "# List of target pixels\n",
    "pixels_de_interet = pix_danone + pix_agri + pix_ensta + pix_apt + pix_lac + pix_foret\n",
    "len(pixels_de_interet)"
   ]
  },
  {
   "cell_type": "code",
   "execution_count": 8,
   "metadata": {},
   "outputs": [],
   "source": [
    "dir = \"../../ressources/images\"\n",
    "images_list = os.listdir(dir)\n",
    "\n",
    "images_2A = list()\n",
    "images_2B = list()\n",
    "prog = re.compile(r'\\w+2A')\n",
    "for image in images_list:\n",
    "    if prog.match(image):\n",
    "        images_2A.append(image)\n",
    "    else:\n",
    "        images_2B.append(image)\n",
    "        \n",
    "images_2A.sort()\n",
    "images_2B.sort()\n",
    "all_images = images_2A + images_2B\n",
    "all_images = sorted(all_images, key=lambda date: date[16:24])      "
   ]
  },
  {
   "cell_type": "code",
   "execution_count": null,
   "metadata": {},
   "outputs": [],
   "source": []
  }
 ],
 "metadata": {
  "kernelspec": {
   "display_name": "progravg",
   "language": "python",
   "name": "python3"
  },
  "language_info": {
   "codemirror_mode": {
    "name": "ipython",
    "version": 3
   },
   "file_extension": ".py",
   "mimetype": "text/x-python",
   "name": "python",
   "nbconvert_exporter": "python",
   "pygments_lexer": "ipython3",
   "version": "3.8.8"
  }
 },
 "nbformat": 4,
 "nbformat_minor": 2
}
