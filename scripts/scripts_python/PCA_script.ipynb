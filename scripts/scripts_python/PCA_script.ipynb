{
 "cells": [
  {
   "cell_type": "markdown",
   "metadata": {},
   "source": [
    "Hello world"
   ]
  },
  {
   "cell_type": "code",
   "execution_count": 15,
   "metadata": {},
   "outputs": [],
   "source": [
    "from selection_pixels_dtw import *\n",
    "from sklearn.decomposition import PCA\n",
    "import os\n",
    "import cv2\n",
    "from PIL import Image\n",
    "import rasterio as rio\n",
    "import re\n",
    "import numpy as np\n",
    "import matplotlib.pyplot as plt"
   ]
  },
  {
   "cell_type": "code",
   "execution_count": 9,
   "metadata": {},
   "outputs": [
    {
     "data": {
      "text/plain": [
       "54"
      ]
     },
     "execution_count": 9,
     "metadata": {},
     "output_type": "execute_result"
    }
   ],
   "source": [
    "# List of target pixels\n",
    "pixels_de_interet = pix_danone + pix_agri + pix_ensta + pix_apt + pix_lac + pix_foret\n",
    "len(pixels_de_interet)"
   ]
  },
  {
   "cell_type": "code",
   "execution_count": 17,
   "metadata": {},
   "outputs": [],
   "source": [
    "dir = \"../../ressources/images\"\n",
    "images_list_original = os.listdir(dir)\n"
   ]
  },
  {
   "cell_type": "code",
   "execution_count": 78,
   "metadata": {},
   "outputs": [
    {
     "name": "stdout",
     "output_type": "stream",
     "text": [
      "973 2182 297232040\n"
     ]
    }
   ],
   "source": [
    "image = images_list_original[0]\n",
    "original_shape = rio.open(dir+'/'+image, 'r').read(1).shape\n",
    "print(original_shape[0], original_shape[1], original_shape[0]*original_shape[1]*140)"
   ]
  },
  {
   "cell_type": "code",
   "execution_count": 68,
   "metadata": {},
   "outputs": [],
   "source": [
    "nband = 4\n",
    "images_list_beforePCA = []\n",
    "images_list_afterPCA = []\n",
    "for image in images_list_original:\n",
    "    matrice = np.zeros((len(pixels_de_interet),nband))\n",
    "    with rio.open(dir+'/'+image, 'r') as ds:\n",
    "        # arr = ds.read()\n",
    "        band1 = ds.read(1)\n",
    "        band2 = ds.read(2)            \n",
    "        band3 = ds.read(3)\n",
    "        band4 = ds.read(4)\n",
    "        # Extraction of target pixels\n",
    "    for pixel,j in zip(pixels_de_interet, range(len(pixels_de_interet))):\n",
    "        matrice[j,0] = band1[pixel[0], pixel[1]]\n",
    "        matrice[j,1] = band2[pixel[0], pixel[1]]\n",
    "        matrice[j,2] = band3[pixel[0], pixel[1]]\n",
    "        matrice[j,3] = band4[pixel[0], pixel[1]]\n",
    "    pca = PCA(n_components=1)\n",
    "    matrice_reduced = pca.fit_transform(matrice)\n",
    "    images_list_beforePCA.append(matrice)\n",
    "    images_list_afterPCA.append(matrice_reduced)"
   ]
  },
  {
   "cell_type": "code",
   "execution_count": 74,
   "metadata": {},
   "outputs": [
    {
     "data": {
      "text/plain": [
       "(1, 54, 1)"
      ]
     },
     "execution_count": 74,
     "metadata": {},
     "output_type": "execute_result"
    }
   ],
   "source": [
    "np.array(images_list_beforePCA)\n",
    "np.array(images_list_afterPCA).shape"
   ]
  },
  {
   "cell_type": "code",
   "execution_count": null,
   "metadata": {},
   "outputs": [],
   "source": [
    "\n",
    "images_2A = list()\n",
    "images_2B = list()\n",
    "prog = re.compile(r'\\w+2A')\n",
    "for image in images_list:\n",
    "    if prog.match(image):\n",
    "        images_2A.append(image)\n",
    "    else:\n",
    "        images_2B.append(image)\n",
    "        \n",
    "images_2A.sort()\n",
    "images_2B.sort()\n",
    "all_images = images_2A + images_2B\n",
    "all_images = sorted(all_images, key=lambda date: date[16:24])      "
   ]
  },
  {
   "cell_type": "code",
   "execution_count": 13,
   "metadata": {},
   "outputs": [],
   "source": [
    "list_to_use = all_images\n",
    "line = 0\n",
    "matrice = np.zeros((len(pixels_de_interet), len(list_to_use)))\n",
    "for image in list_to_use:\n",
    "    with rio.open(dir+'/'+image, 'r') as ds:\n",
    "        # arr = ds.read()\n",
    "        # band1 = raster.read(1)\n",
    "        # band2 = raster.read(2)\n",
    "        band3 = ds.read(3)\n",
    "        # band4 = raster.read(4)\n",
    "    # Extraction of target pixels\n",
    "    for pixel,j in zip(pixels_de_interet, range(len(pixels_de_interet)-1)):\n",
    "        matrice[j,line] = band3[pixel[0], pixel[1]]\n",
    "    line +=1\n",
    "        "
   ]
  },
  {
   "cell_type": "code",
   "execution_count": 16,
   "metadata": {},
   "outputs": [
    {
     "name": "stdout",
     "output_type": "stream",
     "text": [
      "(54, 1)\n"
     ]
    },
    {
     "data": {
      "image/png": "[encoded data removed]",
      "text/plain": [
       "<Figure size 720x720 with 2 Axes>"
      ]
     },
     "metadata": {
      "needs_background": "light"
     },
     "output_type": "display_data"
    }
   ],
   "source": [
    "print(matrice.shape)\n",
    "#Looking for a pixels\n",
    "img = (matrice/8).astype(int)\n",
    "#grayImage = cv2.cvtColor(uint_img, cv2.COLOR_GRAY2BGR)\n",
    "plt.figure(figsize=(10,10))\n",
    "plt.imshow(img)\n",
    "plt.colorbar()\n",
    "plt.show()"
   ]
  }
 ],
 "metadata": {
  "kernelspec": {
   "display_name": "progravg",
   "language": "python",
   "name": "python3"
  },
  "language_info": {
   "codemirror_mode": {
    "name": "ipython",
    "version": 3
   },
   "file_extension": ".py",
   "mimetype": "text/x-python",
   "name": "python",
   "nbconvert_exporter": "python",
   "pygments_lexer": "ipython3",
   "version": "3.8.8"
  }
 },
 "nbformat": 4,
 "nbformat_minor": 2
}
