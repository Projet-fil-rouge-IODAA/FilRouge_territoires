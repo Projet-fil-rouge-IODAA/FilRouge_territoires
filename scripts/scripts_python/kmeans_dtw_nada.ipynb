{
 "cells": [
  {
   "cell_type": "markdown",
   "metadata": {},
   "source": [
    "Test de k-médioides sur séries temporelles (Nada)"
   ]
  },
  {
   "cell_type": "code",
   "execution_count": 80,
   "metadata": {},
   "outputs": [],
   "source": [
    "from scipy.spatial import distance\n",
    "import numpy as np\n",
    "import math\n",
    "\n",
    "#mesure de similarité dtw entre deux séries temporelles. x = un pixel sur un intervalle de temps\n",
    "def dtw(x, x_prime):\n",
    "  R=np.zeros((len(x),len(x_prime)))\n",
    "  for i in range(len(x)):\n",
    "    for j in range(len(x_prime)):\n",
    "      R[i, j] = distance.euclidean(x[i], x_prime[j]) ** 2\n",
    "      if i > 0 or j > 0:\n",
    "        R[i, j] += min(\n",
    "          R[i-1, j  ] if i > 0             else math.inf,\n",
    "          R[i  , j-1] if j > 0             else math.inf,\n",
    "          R[i-1, j-1] if (i > 0 and j > 0) else math.inf\n",
    "        )\n",
    "\n",
    "  return R[-1, -1] ** (1/2)\n",
    "\n"
   ]
  },
  {
   "cell_type": "code",
   "execution_count": 91,
   "metadata": {},
   "outputs": [
    {
     "name": "stdout",
     "output_type": "stream",
     "text": [
      "0.4905886158586988\n",
      "(5, 1)\n"
     ]
    }
   ],
   "source": [
    "\n",
    "\n",
    "#génération des matrices : \n",
    "data=np.random.rand(5)\n",
    "sequence1 = np.random.rand(5,1)\n",
    "sequence2 = np.random.rand(5,1)\n",
    "sequence3 = np.random.rand(5,1)\n",
    "sequence4= np.random.rand(5,1)\n",
    "\n",
    "print(dtw(sequence1,sequence2))\n",
    "print(sequence1.shape)"
   ]
  },
  {
   "cell_type": "code",
   "execution_count": 92,
   "metadata": {},
   "outputs": [],
   "source": [
    "# Regrouper les séquences dans une liste\n",
    "data = [sequence1, sequence2, sequence3, sequence4]\n",
    "data=np.array(data)\n",
    "\n",
    "#def k_medoids_clustering(data, k, max_iterations=100):\n",
    "    # Sélectionner les k médioides initiaux\n",
    " #   means = np.random.choice(len(data), k, replace=False)\n",
    "\n",
    "  #  for _ in range(max_iterations):\n",
    "        # Affectation des points aux means\n",
    "   #     clusters = [[] for _ in range(k)]\n",
    "    #    for i, point in enumerate(data):\n",
    "     #       distances = [dtw(data[m], point)[0] for m in means]\n",
    "      #      cluster_assignment = np.argmin(distances)\n",
    "       #     clusters[cluster_assignment].append(i)\n",
    "\n",
    "        # Mise à jour des means\n",
    "        #for i in range(k):\n",
    "         #   cluster_indices = clusters[i]\n",
    "          #  cluster_points = data[cluster_indices]\n",
    "           # means_index = min([(idx, np.sum([dtw(data[m], data[idx])[0] for m in cluster_indices]))\n",
    "            #                    for idx in cluster_indices], key=lambda x: x[1])[0]\n",
    "            #medoids[i] = medoid_index\n",
    "\n",
    "        # Convertir les indices des clusters en points réels\n",
    "    #clustered_points = [[data[i] for i in cluster_indices] for cluster_indices in clusters]\n",
    "\n",
    "    #return clustered_points, medoids\n",
    "\n",
    "\n",
    "#result_clustered_points,results_medoids=k_medoids_clustering(data,k=3)\n",
    "#print(data)\n",
    "\n",
    "# Afficher les points dans chaque cluster\n",
    "#for i, cluster in enumerate(result_clustered_points):\n",
    " #   print(f\"Cluster {i + 1}: {cluster}\")"
   ]
  },
  {
   "cell_type": "code",
   "execution_count": 104,
   "metadata": {},
   "outputs": [],
   "source": [
    "import numpy as np\n",
    " \n",
    "#Function to implement steps given in previous section\n",
    "def kmeans(x,k, no_of_iterations):\n",
    "    idx = np.random.choice(len(x), k, replace=False)\n",
    "    \n",
    "    #Randomly choosing Centroids \n",
    "    centroids = x[idx, :] #Step 1\n",
    "     \n",
    "    #finding the distance between centroids and all the data points\n",
    "    distances=np.zeros((len(x),k))\n",
    "    for i in range(len(x)):\n",
    "            for j in range(len(centroids)):\n",
    "                    distances[i,j]=(dtw(x[i], centroids[j])) #Step 2\n",
    "     \n",
    "    #Centroid with the minimum Distance\n",
    "    points = np.array([np.argmin(i) for i in distances]) #Step 3\n",
    "     \n",
    "    # Repeating the above steps for a defined number of iterations\n",
    "    # Step 4\n",
    "    for _ in range(no_of_iterations):\n",
    "        centroids = []\n",
    "        for idx in range(k):\n",
    "            # Updating Centroids by taking mean of Cluster it belongs to\n",
    "            temp_cent = x[points == idx].mean(axis=0)\n",
    "            centroids.append(temp_cent)\n",
    "\n",
    "        centroids = np.vstack(centroids)  # Updated Centroids\n",
    "    \n",
    "    distances=np.zeros((len(x),k))\n",
    "    for i in range(len(x)):\n",
    "            for j in range(len(centroids)):\n",
    "                    distances[i,j]=(dtw(x[i], centroids[j])) \n",
    "\n",
    "    points = np.array([np.argmin(i) for i in distances])\n",
    "         \n",
    "    return points "
   ]
  },
  {
   "cell_type": "code",
   "execution_count": 112,
   "metadata": {},
   "outputs": [
    {
     "name": "stdout",
     "output_type": "stream",
     "text": [
      "Cluster 1: [[0.3588848 ]\n",
      " [0.18152498]\n",
      " [0.51610303]\n",
      " [0.05617149]\n",
      " [0.97590365]]\n",
      "Cluster 2: [[0.11386539]\n",
      " [0.56628313]\n",
      " [0.46187986]\n",
      " [0.881758  ]\n",
      " [0.9667312 ]]\n",
      "Cluster 3: [[0.46070698]\n",
      " [0.52914999]\n",
      " [0.95302865]\n",
      " [0.29233359]\n",
      " [0.60846228]]\n"
     ]
    }
   ],
   "source": [
    "# Function to implement steps given in the previous section\n",
    "def kmeans2(x, k, no_of_iterations):\n",
    "    idx = np.random.choice(len(x), k, replace=False)\n",
    "\n",
    "    # Randomly choosing Centroids\n",
    "    centroids = x[idx, :]  # Step 1\n",
    "\n",
    "    for _ in range(no_of_iterations):\n",
    "        # Finding the distance between centroids and all the data points\n",
    "        distances = np.zeros((len(x), k))\n",
    "        for i in range(len(x)):\n",
    "            for j in range(len(centroids)):\n",
    "                distances[i, j] = dtw(x[i], centroids[j])  # Step 2\n",
    "\n",
    "        # Centroid with the minimum Distance\n",
    "        points = np.array([np.argmin(i) for i in distances])  # Step 3\n",
    "\n",
    "        # Updating Centroids by taking the mean of the Cluster it belongs to\n",
    "        centroids = np.array([x[points == idx].mean(axis=0) for idx in range(k)])  # Updated Centroids\n",
    "\n",
    "    return centroids, points\n",
    "\n",
    "\n",
    "result_clusters,results_points=kmeans2(data,3,2)\n",
    "# Afficher les points dans chaque cluster\n",
    "for i, cluster in enumerate(result_clusters):\n",
    "    print(f\"Cluster {i + 1}: {cluster}\")\n",
    "\n",
    "\n",
    "\n"
   ]
  },
  {
   "cell_type": "code",
   "execution_count": 113,
   "metadata": {},
   "outputs": [
    {
     "name": "stdout",
     "output_type": "stream",
     "text": [
      "[[[0.11386539]\n",
      "  [0.56628313]\n",
      "  [0.46187986]\n",
      "  [0.881758  ]\n",
      "  [0.9667312 ]]\n",
      "\n",
      " [[0.3588848 ]\n",
      "  [0.18152498]\n",
      "  [0.51610303]\n",
      "  [0.05617149]\n",
      "  [0.97590365]]\n",
      "\n",
      " [[0.12913008]\n",
      "  [0.87247422]\n",
      "  [0.91455154]\n",
      "  [0.29801884]\n",
      "  [0.51372084]]\n",
      "\n",
      " [[0.79228388]\n",
      "  [0.18582576]\n",
      "  [0.99150576]\n",
      "  [0.28664834]\n",
      "  [0.70320373]]]\n"
     ]
    }
   ],
   "source": [
    "print(data)"
   ]
  }
 ],
 "metadata": {
  "kernelspec": {
   "display_name": "filrouge",
   "language": "python",
   "name": "python3"
  },
  "language_info": {
   "codemirror_mode": {
    "name": "ipython",
    "version": 3
   },
   "file_extension": ".py",
   "mimetype": "text/x-python",
   "name": "python",
   "nbconvert_exporter": "python",
   "pygments_lexer": "ipython3",
   "version": "3.12.0"
  },
  "orig_nbformat": 4
 },
 "nbformat": 4,
 "nbformat_minor": 2
}
